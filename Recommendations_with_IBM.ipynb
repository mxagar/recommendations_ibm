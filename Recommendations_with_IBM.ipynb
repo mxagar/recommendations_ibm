{
 "cells": [
  {
   "cell_type": "markdown",
   "metadata": {},
   "source": [
    "# Recommendations with IBM\n",
    "\n",
    "In this notebook, you will be putting your recommendation skills to use on real data from the IBM Watson Studio platform. \n",
    "\n",
    "\n",
    "You may either submit your notebook through the workspace here, or you may work from your local machine and submit through the next page.  Either way assure that your code passes the project [RUBRIC](https://review.udacity.com/#!/rubrics/3325/view).  **Please save regularly.**\n",
    "\n",
    "By following the table of contents, you will build out a number of different methods for making recommendations that can be used for different situations. \n",
    "\n",
    "\n",
    "## Table of Contents\n",
    "\n",
    "I. [Exploratory Data Analysis](#Exploratory-Data-Analysis)<br>\n",
    "II. [Rank Based Recommendations](#Rank)<br>\n",
    "III. [User-User Based Collaborative Filtering](#User-User)<br>\n",
    "IV. [Content Based Recommendations (EXTRA - NOT REQUIRED)](#Content-Recs)<br>\n",
    "V. [Matrix Factorization](#Matrix-Fact)<br>\n",
    "VI. [Extras & Concluding](#conclusions)\n",
    "\n",
    "At the end of the notebook, you will find directions for how to submit your work.  Let's get started by importing the necessary libraries and reading in the data."
   ]
  },
  {
   "cell_type": "code",
   "execution_count": 1,
   "metadata": {
    "tags": []
   },
   "outputs": [],
   "source": [
    "import itertools\n",
    "import math\n",
    "import string\n",
    "import pandas as pd\n",
    "import numpy as np\n",
    "import matplotlib.pyplot as plt\n",
    "import project_tests as t\n",
    "import pickle\n",
    "\n",
    "import nltk as nltk\n",
    "from nltk.corpus import stopwords\n",
    "from nltk.tokenize import word_tokenize\n",
    "import gensim\n",
    "from gensim import corpora\n",
    "\n",
    "from scipy.spatial.distance import cosine, jaccard, euclidean, cityblock\n",
    "\n",
    "%matplotlib inline"
   ]
  },
  {
   "cell_type": "code",
   "execution_count": 2,
   "metadata": {
    "tags": []
   },
   "outputs": [
    {
     "name": "stderr",
     "output_type": "stream",
     "text": [
      "[nltk_data] Downloading package punkt to /Users/mxagar/nltk_data...\n",
      "[nltk_data]   Package punkt is already up-to-date!\n",
      "[nltk_data] Downloading package stopwords to\n",
      "[nltk_data]     /Users/mxagar/nltk_data...\n",
      "[nltk_data]   Package stopwords is already up-to-date!\n",
      "[nltk_data] Downloading package averaged_perceptron_tagger to\n",
      "[nltk_data]     /Users/mxagar/nltk_data...\n",
      "[nltk_data]   Package averaged_perceptron_tagger is already up-to-\n",
      "[nltk_data]       date!\n",
      "[nltk_data] Downloading package tagsets to /Users/mxagar/nltk_data...\n",
      "[nltk_data]   Package tagsets is already up-to-date!\n"
     ]
    },
    {
     "data": {
      "text/plain": [
       "True"
      ]
     },
     "execution_count": 2,
     "metadata": {},
     "output_type": "execute_result"
    }
   ],
   "source": [
    "# Download NLTK packages (for part IV)\n",
    "nltk.download('punkt')\n",
    "nltk.download('stopwords')\n",
    "nltk.download('averaged_perceptron_tagger')\n",
    "nltk.download('tagsets')"
   ]
  },
  {
   "cell_type": "code",
   "execution_count": 3,
   "metadata": {},
   "outputs": [
    {
     "data": {
      "text/html": [
       "<div>\n",
       "<style scoped>\n",
       "    .dataframe tbody tr th:only-of-type {\n",
       "        vertical-align: middle;\n",
       "    }\n",
       "\n",
       "    .dataframe tbody tr th {\n",
       "        vertical-align: top;\n",
       "    }\n",
       "\n",
       "    .dataframe thead th {\n",
       "        text-align: right;\n",
       "    }\n",
       "</style>\n",
       "<table border=\"1\" class=\"dataframe\">\n",
       "  <thead>\n",
       "    <tr style=\"text-align: right;\">\n",
       "      <th></th>\n",
       "      <th>article_id</th>\n",
       "      <th>title</th>\n",
       "      <th>email</th>\n",
       "    </tr>\n",
       "  </thead>\n",
       "  <tbody>\n",
       "    <tr>\n",
       "      <th>0</th>\n",
       "      <td>1430.0</td>\n",
       "      <td>using pixiedust for fast, flexible, and easier...</td>\n",
       "      <td>ef5f11f77ba020cd36e1105a00ab868bbdbf7fe7</td>\n",
       "    </tr>\n",
       "    <tr>\n",
       "      <th>1</th>\n",
       "      <td>1314.0</td>\n",
       "      <td>healthcare python streaming application demo</td>\n",
       "      <td>083cbdfa93c8444beaa4c5f5e0f5f9198e4f9e0b</td>\n",
       "    </tr>\n",
       "    <tr>\n",
       "      <th>2</th>\n",
       "      <td>1429.0</td>\n",
       "      <td>use deep learning for image classification</td>\n",
       "      <td>b96a4f2e92d8572034b1e9b28f9ac673765cd074</td>\n",
       "    </tr>\n",
       "    <tr>\n",
       "      <th>3</th>\n",
       "      <td>1338.0</td>\n",
       "      <td>ml optimization using cognitive assistant</td>\n",
       "      <td>06485706b34a5c9bf2a0ecdac41daf7e7654ceb7</td>\n",
       "    </tr>\n",
       "    <tr>\n",
       "      <th>4</th>\n",
       "      <td>1276.0</td>\n",
       "      <td>deploy your python model as a restful api</td>\n",
       "      <td>f01220c46fc92c6e6b161b1849de11faacd7ccb2</td>\n",
       "    </tr>\n",
       "  </tbody>\n",
       "</table>\n",
       "</div>"
      ],
      "text/plain": [
       "   article_id                                              title   \n",
       "0      1430.0  using pixiedust for fast, flexible, and easier...  \\\n",
       "1      1314.0       healthcare python streaming application demo   \n",
       "2      1429.0         use deep learning for image classification   \n",
       "3      1338.0          ml optimization using cognitive assistant   \n",
       "4      1276.0          deploy your python model as a restful api   \n",
       "\n",
       "                                      email  \n",
       "0  ef5f11f77ba020cd36e1105a00ab868bbdbf7fe7  \n",
       "1  083cbdfa93c8444beaa4c5f5e0f5f9198e4f9e0b  \n",
       "2  b96a4f2e92d8572034b1e9b28f9ac673765cd074  \n",
       "3  06485706b34a5c9bf2a0ecdac41daf7e7654ceb7  \n",
       "4  f01220c46fc92c6e6b161b1849de11faacd7ccb2  "
      ]
     },
     "execution_count": 3,
     "metadata": {},
     "output_type": "execute_result"
    }
   ],
   "source": [
    "df = pd.read_csv('data/user-item-interactions.csv')\n",
    "df_content = pd.read_csv('data/articles_community.csv')\n",
    "del df['Unnamed: 0']\n",
    "del df_content['Unnamed: 0']\n",
    "\n",
    "# Show df to get an idea of the data\n",
    "df.head()"
   ]
  },
  {
   "cell_type": "code",
   "execution_count": 4,
   "metadata": {
    "tags": []
   },
   "outputs": [
    {
     "data": {
      "text/html": [
       "<div>\n",
       "<style scoped>\n",
       "    .dataframe tbody tr th:only-of-type {\n",
       "        vertical-align: middle;\n",
       "    }\n",
       "\n",
       "    .dataframe tbody tr th {\n",
       "        vertical-align: top;\n",
       "    }\n",
       "\n",
       "    .dataframe thead th {\n",
       "        text-align: right;\n",
       "    }\n",
       "</style>\n",
       "<table border=\"1\" class=\"dataframe\">\n",
       "  <thead>\n",
       "    <tr style=\"text-align: right;\">\n",
       "      <th></th>\n",
       "      <th>doc_body</th>\n",
       "      <th>doc_description</th>\n",
       "      <th>doc_full_name</th>\n",
       "      <th>doc_status</th>\n",
       "      <th>article_id</th>\n",
       "    </tr>\n",
       "  </thead>\n",
       "  <tbody>\n",
       "    <tr>\n",
       "      <th>0</th>\n",
       "      <td>Skip navigation Sign in SearchLoading...\\r\\n\\r...</td>\n",
       "      <td>Detect bad readings in real time using Python ...</td>\n",
       "      <td>Detect Malfunctioning IoT Sensors with Streami...</td>\n",
       "      <td>Live</td>\n",
       "      <td>0</td>\n",
       "    </tr>\n",
       "    <tr>\n",
       "      <th>1</th>\n",
       "      <td>No Free Hunch Navigation * kaggle.com\\r\\n\\r\\n ...</td>\n",
       "      <td>See the forest, see the trees. Here lies the c...</td>\n",
       "      <td>Communicating data science: A guide to present...</td>\n",
       "      <td>Live</td>\n",
       "      <td>1</td>\n",
       "    </tr>\n",
       "    <tr>\n",
       "      <th>2</th>\n",
       "      <td>☰ * Login\\r\\n * Sign Up\\r\\n\\r\\n * Learning Pat...</td>\n",
       "      <td>Here’s this week’s news in Data Science and Bi...</td>\n",
       "      <td>This Week in Data Science (April 18, 2017)</td>\n",
       "      <td>Live</td>\n",
       "      <td>2</td>\n",
       "    </tr>\n",
       "    <tr>\n",
       "      <th>3</th>\n",
       "      <td>DATALAYER: HIGH THROUGHPUT, LOW LATENCY AT SCA...</td>\n",
       "      <td>Learn how distributed DBs solve the problem of...</td>\n",
       "      <td>DataLayer Conference: Boost the performance of...</td>\n",
       "      <td>Live</td>\n",
       "      <td>3</td>\n",
       "    </tr>\n",
       "    <tr>\n",
       "      <th>4</th>\n",
       "      <td>Skip navigation Sign in SearchLoading...\\r\\n\\r...</td>\n",
       "      <td>This video demonstrates the power of IBM DataS...</td>\n",
       "      <td>Analyze NY Restaurant data using Spark in DSX</td>\n",
       "      <td>Live</td>\n",
       "      <td>4</td>\n",
       "    </tr>\n",
       "  </tbody>\n",
       "</table>\n",
       "</div>"
      ],
      "text/plain": [
       "                                            doc_body   \n",
       "0  Skip navigation Sign in SearchLoading...\\r\\n\\r...  \\\n",
       "1  No Free Hunch Navigation * kaggle.com\\r\\n\\r\\n ...   \n",
       "2  ☰ * Login\\r\\n * Sign Up\\r\\n\\r\\n * Learning Pat...   \n",
       "3  DATALAYER: HIGH THROUGHPUT, LOW LATENCY AT SCA...   \n",
       "4  Skip navigation Sign in SearchLoading...\\r\\n\\r...   \n",
       "\n",
       "                                     doc_description   \n",
       "0  Detect bad readings in real time using Python ...  \\\n",
       "1  See the forest, see the trees. Here lies the c...   \n",
       "2  Here’s this week’s news in Data Science and Bi...   \n",
       "3  Learn how distributed DBs solve the problem of...   \n",
       "4  This video demonstrates the power of IBM DataS...   \n",
       "\n",
       "                                       doc_full_name doc_status  article_id  \n",
       "0  Detect Malfunctioning IoT Sensors with Streami...       Live           0  \n",
       "1  Communicating data science: A guide to present...       Live           1  \n",
       "2         This Week in Data Science (April 18, 2017)       Live           2  \n",
       "3  DataLayer Conference: Boost the performance of...       Live           3  \n",
       "4      Analyze NY Restaurant data using Spark in DSX       Live           4  "
      ]
     },
     "execution_count": 4,
     "metadata": {},
     "output_type": "execute_result"
    }
   ],
   "source": [
    "# Show df_content to get an idea of the data\n",
    "df_content.head()"
   ]
  },
  {
   "cell_type": "code",
   "execution_count": 5,
   "metadata": {
    "tags": []
   },
   "outputs": [
    {
     "data": {
      "text/plain": [
       "(45993, 3)"
      ]
     },
     "execution_count": 5,
     "metadata": {},
     "output_type": "execute_result"
    }
   ],
   "source": [
    "# User-item interactions\n",
    "df.shape"
   ]
  },
  {
   "cell_type": "code",
   "execution_count": 6,
   "metadata": {
    "tags": []
   },
   "outputs": [
    {
     "data": {
      "text/plain": [
       "(1056, 5)"
      ]
     },
     "execution_count": 6,
     "metadata": {},
     "output_type": "execute_result"
    }
   ],
   "source": [
    "# Articles\n",
    "df_content.shape"
   ]
  },
  {
   "cell_type": "code",
   "execution_count": 7,
   "metadata": {
    "tags": []
   },
   "outputs": [
    {
     "data": {
      "text/plain": [
       "['Detect Malfunctioning IoT Sensors with Streaming Analytics',\n",
       " 'Communicating data science: A guide to presenting your work',\n",
       " 'This Week in Data Science (April 18, 2017)',\n",
       " 'DataLayer Conference: Boost the performance of your distributed database',\n",
       " 'Analyze NY Restaurant data using Spark in DSX']"
      ]
     },
     "execution_count": 7,
     "metadata": {},
     "output_type": "execute_result"
    }
   ],
   "source": [
    "# Articles: titles\n",
    "df_content['doc_full_name'].to_list()[:5]"
   ]
  },
  {
   "cell_type": "code",
   "execution_count": 8,
   "metadata": {
    "tags": []
   },
   "outputs": [
    {
     "data": {
      "text/plain": [
       "['Detect bad readings in real time using Python and Streaming Analytics.',\n",
       " 'See the forest, see the trees. Here lies the challenge in both performing and presenting an analysis. As data scientists, analysts, and machine learning engineers faced with fulfilling business obj…',\n",
       " 'Here’s this week’s news in Data Science and Big Data.',\n",
       " 'Learn how distributed DBs solve the problem of scaling persistent storage, but introduce latency as data size increases and become I/O bound.',\n",
       " 'This video demonstrates the power of IBM DataScience Experience using a simple New York State Restaurant Inspections data scenario. ']"
      ]
     },
     "execution_count": 8,
     "metadata": {},
     "output_type": "execute_result"
    }
   ],
   "source": [
    "# Articles: descriptions\n",
    "df_content['doc_description'].to_list()[:5]"
   ]
  },
  {
   "cell_type": "code",
   "execution_count": 9,
   "metadata": {
    "tags": []
   },
   "outputs": [
    {
     "name": "stdout",
     "output_type": "stream",
     "text": [
      "No Free Hunch Navigation * kaggle.com\n",
      "\n",
      " * kaggle.com\n",
      "\n",
      "Communicating data science: A guide to presenting your work 4COMMUNICATING DATA SCIENCE: A GUIDE TO PRESENTING YOUR WORK\n",
      "Megan Risdal | 06.29.2016\n",
      "\n",
      "See the forest, see the trees . Here lies the challenge in both performing and presenting an analysis. As\n",
      "data scientists, analysts, and machine learning engineers faced with fulfilling\n",
      "business objectives, we find ourselves bridging the gap between The Two Cultures : sciences and humanities. After spending countless hours at the terminal\n",
      "devising a creative and elegant solution to a difficult problem, the insights\n",
      "and business applications are obvious in our minds. But how do you distill them\n",
      "into something you can communicate?\n",
      "\n",
      "Qualifications and requirements for a senior data scientist position.\n",
      "\n",
      "Presenting my work is one of the surprising challenges I faced in my recent\n",
      "transition from academia to life as a data analyst at a market research and strategy firm . When I was a linguistics PhD student at UCLA studying learnability theory in\n",
      "a classroom or measuring effects of an oral constriction on glottal vibration in\n",
      "a sound booth, my colleagues and I were comfortable speaking the same language.\n",
      "Now that I work with a much more diverse crowd of co-workers and clients with\n",
      "varied backgrounds and types of expertise, I need to work harder to ensure that\n",
      "the insights of my analyses are communicated effectively.\n",
      "\n",
      "In this second entry in the communicating data science series , I cover some essentials when it comes to presenting a thorough,\n",
      "comprehensible analysis for readers who want (or need) to know how to get their\n",
      "work noticed and read.\n",
      "\n",
      "\n",
      "--------------------------------------------------------------------------------\n",
      "\n",
      "GET YOUR HEAD IN THE GAME\n",
      "Imagine you’ve just completed the so-called heavy lifting, whatever it may be,\n",
      "and you’re ready to present your results and conclusions in a report. Well, step\n",
      "away from the word processor! There are two things you must first consider: your\n",
      "audience and your goals. This is your forest.\n",
      "\n",
      "WHO IS YOUR AUDIENCE?\n",
      "The matter of who you’re speaking to will influence every detail of how you\n",
      "choose to present your analysis from whether you use technical jargon or spend\n",
      "time carefully defining your terms. The formality of the context may determine\n",
      "whether a short, fun tangent or personal anecdote will keep your audience\n",
      "happily engaged or elicit eye rolls … and worse.\n",
      "\n",
      "This is all important to consider because once you’ve envisioned your audience,\n",
      "you take stock of what may and may not be shared knowledge and how to manage\n",
      "their expectations. In your writing (and in everyday life), it’s useful to be\n",
      "cognizant of Grice’s principles of cooperative communication:\n",
      "\n",
      " 1. Maxim of quantity : be informative, without giving overwhelming amounts of extraneous detail.\n",
      " 2. Maxim of quality : be truthful. Enough said.\n",
      " 3. Maxim of relation : be relevant. I’ll give you some tips on staying topical shortly!\n",
      " 4. Maxim of manner : be clear. Don’t be ambiguous, be orderly.\n",
      "\n",
      "So be cooperative! Know your audience and do what you can to anticipate their\n",
      "expectations. This will ensure that you cover all ground in exactly as much\n",
      "detail as necessary in your report.\n",
      "\n",
      "WHAT IS THE GOAL?\n",
      "Also before you put pen to paper, it’s helpful remind yourself again (and again)\n",
      "of what your goal is. If you’re working in a professional environment, you’re\n",
      "aware that it’s important to be continually mindful of the goal or business\n",
      "problem and why you’re tasked with solving it.\n",
      "\n",
      "Or perhaps it's a strategic initiative you're after: Did you set out to learn\n",
      "something new about some data (and the world)? Or have you been diligently\n",
      "working on a new skill you’d like to showcase? Do you want to test out some\n",
      "ideas and get feedback? It’s okay to make it your goal to find out “Can I do\n",
      "this?” Maybe you want to share some of your expertise with the community on\n",
      "Kaggle Scripts. In that case, it’s even more imperative that you have a\n",
      "buttoned-up analysis!\n",
      "\n",
      "\"If we can really understand the problem, the answer will come out of it,\n",
      "because the answer is not separate from the problem.\"\n",
      "\n",
      "― Jiddu KrishnamurtiIf you’ve reached the point of having an analysis to report, you’ve more than\n",
      "likely familiarized yourself with the goals of the initiative, but you must also\n",
      "keep them at the forefront of your thoughts when presenting your results as\n",
      "well. Your work should be contextualized in terms of your understanding of the\n",
      "research objectives. Often in my own day job this means synthesizing many\n",
      "analyses I’ve performed into a few key pieces of evidence which support a story;\n",
      "this can’t be done well except by accident without keeping in mind the ultimate\n",
      "objective at hand.\n",
      "\n",
      "THE PREAMBLE\n",
      "Now that you’ve got yourself in the right frame of mind―you can see the forest\n",
      "and you know the trees―you’re ready to start thinking about the content of your\n",
      "report. However, before you start furiously spilling ink, first remind yourself\n",
      "of the three elements required to ask an askable question in science:\n",
      "\n",
      " 1. The question itself along with some justification of how it addresses your\n",
      "    objectives\n",
      " 2. A hypothesis\n",
      " 3. A feasible methodology for addressing your question\n",
      "\n",
      "Much as I implore you to consider who your audience is and what your objectives\n",
      "are in order to get your mind in the right place, I’m recommending that you have\n",
      "the answers to these three things ready because they will dictate the content of\n",
      "your report. You don’t want to throw everything and the kitchen sink into a\n",
      "report!\n",
      "\n",
      "WHAT’S THE QUESTION?\n",
      "On Kaggle, the competition hosts very generously provide their burning questions\n",
      "to the community. Outside of this environment, the challenge is to come up with\n",
      "one on your own or work within the business objectives of your employer. At this\n",
      "point, you make sure that you can appropriately state the question and how it\n",
      "relates to your objective(s).\n",
      "\n",
      "As an aside, if you need some exercise in the area of asking insightful\n",
      "questions (a skill unto its own), I hereby challenge you to scroll through some\n",
      "of Kagglers’ most recent scripts, find and read one, and think of one new\n",
      "question you could ask the author. If you find that this is a stumbling block\n",
      "preventing you from proceeding with your analysis, many dataset publishers\n",
      "include a number of questions they’d like to see addressed. Or read the Script of the Week blogs and see what other ideas script authors would like to see explored in the same\n",
      "dataset.\n",
      "\n",
      "WHAT’S THE ANSWER?\n",
      "Now that you have your question, what do you think the answer will be? It’s good\n",
      "practice, of course, to consider what the possible answers may be before you dig\n",
      "into the data, so hopefully you’ve already done that! Clearly delimiting the\n",
      "hypothesis space at this point will guide the evidence and arguments you use in\n",
      "the body of your report. It will be easier to evaluate what constitutes weak and\n",
      "strong support of your theory and what analyses may be absolutely irrelevant.\n",
      "Ultimately you will prevent yourself from attacking straw men in faux support of your theory.\n",
      "\n",
      "Don't build straw men.\n",
      "\n",
      "WHAT’S YOUR METHODOLOGY?\n",
      "Let’s say you’re asking whether Twitter users with dense social networks in the How ISIS Uses Twitter dataset express greater negative sentiment than users with less dense networks. Your\n",
      "first step is to confirm that the data available is sufficient to address your\n",
      "research question. If there’s major missing information, you may want to rethink\n",
      "your question, revise your methodology, or even collect new data.\n",
      "\n",
      "If you’re unsure of how to put language to a particular methodology, this is a\n",
      "good opportunity to flex your Googling skills. Search for “social network\n",
      "analysis in r” or “sentiment analysis in python.” Dive into some academic papers\n",
      "if it's appropriate and see how it's presented. Peruse the natural language processing tags on No Free Hunch and read the winners’ interviews . Get inspiration from scripts on similar datasets on Kaggle. For example, a similar analysis was performed by Kaggle user Khomutov Nikita using the Hillary Clinton’s Emails dataset .\n",
      "\n",
      "Hillary Clinton's network graph. See the code here .\n",
      "\n",
      "Even if you don’t end up needing to share every nuance of your methodology with\n",
      "your given audience, you should always document your work thoroughly to the\n",
      "extent possible. Once you’re ready to present your analysis, you’ll be capable\n",
      "of determining how much is the right amount to share when discussing the nitty\n",
      "gritty mechanics of your model. Similarly, I've been able to pleasantly surprise\n",
      "my boss many times because I have an answer ready at-hand for immediate\n",
      "questions thanks to keeping my exploratory analyses well-documented.\n",
      "\n",
      "By the way, if you’ve felt overwhelmed by the task of putting together a solid\n",
      "methodology for tackling a question, it can’t hurt to lob an idea and some code\n",
      "to the community for feedback. Especially once you have solid presentation of\n",
      "analysis skills! Be honest about where you feel you could use extra input and\n",
      "maybe a fellow Kaggler will come forth with different angle on the problem.\n",
      "\n",
      "PUTTING THE PIECES TOGETHER\n",
      "Finally, you’re ready to write. Keep in mind that a good analysis should\n",
      "facilitate its own interpretation as much as possible. Again, this requires\n",
      "anticipating what information your likely audience will be seeking and what\n",
      "knowledge they’re coming in with already. One method which is both\n",
      "tried-and-true and friendly to the academic nature of the discipline is\n",
      "following a template for your analysis. With that, this section covers the\n",
      "structure which when fleshed out will help you tell the story in the data.\n",
      "\n",
      "Keep in mind that a good analysis should facilitate its own interpretation as\n",
      "much as possible.\n",
      "\n",
      "NOT SO ABSTRACT\n",
      "Make it easy for your audience to quickly determine what they’re about to\n",
      "digest. Use an abstract or introduction to recall your objectives and clearly\n",
      "state them for your readers. What is the problem that you’ve set out to solve?\n",
      "If you have a desired outcome or any expectations of your audience, say it, as\n",
      "this is the entire reason you’re presenting them with your analysis.\n",
      "\n",
      "You then cover everything from your preamble in this section: the question\n",
      "you’ve been on a mission to answer, your hypothesis, and the methodology you’ve\n",
      "used. Finally, you will often provide a high level summary of your results and\n",
      "key findings. Don’t worry about spoiler alerts or boring your readers to death\n",
      "with the content that’s about to follow. Trust that if they pay attention past\n",
      "the introduction that they are interested in how you achieve what you claim you\n",
      "have.\n",
      "\n",
      "Many people I've talked to have said that they often find it easier to write the\n",
      "abstract after having already completely documented the detailed findings of the analysis. I\n",
      "think that this is at least in part because you've familiarized yourself with\n",
      "your own work through the lens of your readership by doing so. Slowly but surely\n",
      "you're extracting yourself from the trees and the bigger picture becomes\n",
      "apparent.\n",
      "\n",
      "THE CONTENT: BREAK OFF WHAT YOU CAN CHEW\n",
      "This is where the good stuff lives. You've laid the foundation for your analysis\n",
      "such that your audience is prepared to read or listen intently to your story. I\n",
      "can’t tell you the specifics of what goes here, but I can tell you how to\n",
      "structure it.\n",
      "\n",
      "Take your analysis in small bits by breaking your question into subparts. For a\n",
      "data-driven analysis, it can make sense to tackle each piece of evidence\n",
      "one-by-one. You may have a dissertation’s worth of data to report on, but more\n",
      "likely than not you must pick and choose what will best support your analysis\n",
      "succinctly and effectively. Again, having the objectives and audience in mind\n",
      "will help you decide what’s critical. Lay it all out before you and pair\n",
      "sub-questions with evidence until you have a story.\n",
      "\n",
      "Once you’ve presented the evidence, explain why it supports (or doesn't support)\n",
      "your hypothesis or your objectives. A good analysis also considers alternative\n",
      "hypotheses or interpretations as well. You’ve already surveyed the hypothesis\n",
      "space, so you should be ready-armed to handle contrary evidence. Doing so is\n",
      "also a way of anticipating the expectations of your audience and the skepticism\n",
      "they may harbor. It’s at this point that it’s most critical to keep in mind your\n",
      "objectives and the question you’re addressing with your analysis. Ask how every\n",
      "piece of evidence you offer takes you one step closer to confirming or\n",
      "disproving your hypothesis.\n",
      "\n",
      "OTHER TIPS AND TRICKS\n",
      "Visualize the problem . Seeing is believing. It’s cliched to say in any statement asserting the value\n",
      "of data visualization, but it’s so incredibly true. This “trick” is so effective\n",
      "that I’m going to spend more time talking about it in a future post. If you can\n",
      "plainly “state” something with a graph or chart, go for it!\n",
      "\n",
      " * Shail Jayesh Deliwala visualizes confusion matrices to evaluate and compare model performance.\n",
      "   Read the full notebook here .\" /\n",
      " * Lj Miranda shows the steady rise of carbon emissions in the Philippines. Read the full\n",
      "   notebook here .\" /\n",
      " * 33Vito uses polar coordinates to show the times during the day leveling and\n",
      "   non-leveling characters play World of Warcraft. Read the full notebook here .\" /\n",
      " * Michael Griffiths uses color and variations in transparency to make this table of percentages\n",
      "   more readily interpretable. Read the full notebook here .\" /\n",
      "\n",
      " * Shail Jayesh Deliwala visualizes confusion matrices to evaluate and compare model performance.\n",
      "   Read the full notebook here .\" /\n",
      " * Lj Miranda shows the steady rise of carbon emissions in the Philippines. Read the full\n",
      "   notebook here .\" /\n",
      " * 33Vito uses polar coordinates to show the times during the day leveling and\n",
      "   non-leveling characters play World of Warcraft. Read the full notebook here .\" /\n",
      " * Michael Griffiths uses color and variations in transparency to make this table of percentages\n",
      "   more readily interpretable. Read the full notebook here .\" /\n",
      "\n",
      "Variety is the spice of life . And it can liven up your writing (and speaking) as well. For example, use a\n",
      "mix of short and sweet sentences interspersed among longer, more elaborate ones.\n",
      "Find where you accidentally used the word “didactic” four times on one page and\n",
      "change it up! Related to my first point, use effective variety in types of\n",
      "visualizations you employ. Small things like this will keep your readers awake\n",
      "and interested.\n",
      "\n",
      "Check your work . I don’t like to emphasize this too much because I’m a descriptivist , but make sure your writing is grammatical, fluent, and free of typos. For\n",
      "better or worse, trivial mistakes can discredit you in the eyes of many. I find\n",
      "that it helps to read my writing aloud to catch disfluencies.\n",
      "\n",
      "Gain muscle memory . If you really struggle with transforming your analysis into a form that can\n",
      "be shared more broadly, begin by writing anything until writing prose feels as natural as writing code. For example, I actually\n",
      "suggest sitting down and copying a report word-for-word. Or even any instance of\n",
      "persuasive writing. Not to be used as your own in any way (i.e., plagiarism),\n",
      "but to remove one more unknown from the equation: what it literally feels like to go through the motions of stringing words and sentences and paragraphs\n",
      "together to tell a story.\n",
      "\n",
      "CONCLUSIONS & NEXT STEPS\n",
      "A good analysis is repetitive. You know the intricacies of your work in and out,\n",
      "but your audience does not. You’ve told your readers in your abstract (or\n",
      "introduction, if you prefer) what you had ventured to do and even what you end\n",
      "up finding and the content lays this all out for them. In the conclusions\n",
      "section you hit them with it again. At this point, they’ve seen the relevant\n",
      "data you’ve carefully chosen to support your theory so it’s time to formally\n",
      "draw your conclusions. Your readers can decide if they agree or not.\n",
      "\n",
      "Speaking of being repetitive, after making your conclusions, you again remind\n",
      "your readers of the objective(s) of this report. Restate them again and help\n",
      "your readers help you―what do you expect now? What feedback would you like? What\n",
      "decision-making can happen now that your report is presented and the insights\n",
      "have been shared? In my work, I often collaborate with strategists to develop a\n",
      "set of recommendations for our clients. Typically I'll take a stab at it based\n",
      "on the expertise I've gained in working with the data and a strategist will\n",
      "refine using their business insights.\n",
      "\n",
      "FIN\n",
      "And this is exactly where the beauty of the analysis and your skillful\n",
      "presentation thereof meet. Because you’ve managed to package your approach in a\n",
      "fashion digestible to your audience, your readers, collaborators, and clients\n",
      "have comprehended and learned from your analysis and what its implications are\n",
      "without getting lost in the trees. They are equipped to react to the value in\n",
      "your work and participate in the next step of realizing its objectives.\n",
      "\n",
      "\n",
      "--------------------------------------------------------------------------------\n",
      "\n",
      "Thanks for reading the second entry in this series on communicating data science . I covered the basics of presenting an analysis at a very high level. I'd love\n",
      "to learn what your approach is, how you realize the value in your work, and how\n",
      "you collaborate with others to achieve business goals. Leave a comment or send me a note !\n",
      "\n",
      "If you missed my interview with Tyler Byers, a data scientist and storytelling\n",
      "expert, check it out here . Stay tuned to learn some data visualization fundamentals.\n",
      "\n",
      "communicating data science data analysis Reporting Tutorial writing * Liling TanGricean maxims should be \"maxims\" of quantity, quality, relation and manner,\n",
      "   not \"maximums\" =)\n",
      "   \n",
      "    * Megan RisdalHaha, wow! I don't know how I did that. Fixed. Thank you! 🙂\n",
      "      \n",
      "      \n",
      "    * \n",
      "   \n",
      "   \n",
      " * \n",
      " * Albert CampsVery interesting, thanks!!! Trying to summarize it ended up being quite long\n",
      "   anyway. A lot of distilled information.\n",
      "   \n",
      "   We work a bit differently. We include an executive summary + recommendations\n",
      "   at the beginning of the presentation instead of putting them at the end, just\n",
      "   after stating the question to answer. After that the audience knows what will\n",
      "   come, and when the presentation is revisited it is a lot faster to check . If\n",
      "   there's a need to dig deeper, there's always available all the analysis\n",
      "   steps.\n",
      "   \n",
      "   Hoping to see the next one soon! 😀\n",
      "   \n",
      "    * Megan RisdalThanks! I actually often do the same thing re: executive summaries in my\n",
      "      day job, too! That's a really good point. There's definitely no\n",
      "      one-size-fits-all approach which makes a high-level summarization\n",
      "      misleading in certain ways. And now that I think of it, another strength\n",
      "      in communicating data science is being able to be information dense &\n",
      "      concise for times where you need to fit your work into a standalone one-\n",
      "      or two-sheeter/executive summary.\n",
      "      \n",
      "      Hopefully more good stuff coming soon. 🙂\n",
      "      \n",
      "      \n",
      "    * \n",
      "   \n",
      "   \n",
      " * \n",
      "\n",
      "THE OFFICIAL BLOG OF KAGGLE.COM\n",
      "SearchCATEGORIES\n",
      " * Data Science News (38)\n",
      " * Kaggle News (120)\n",
      " * Kernels (22)\n",
      " * Tutorials (28)\n",
      " * Winners' Interviews (174)\n",
      "\n",
      "WANT TO SUBSCRIBE?\n",
      "Email Address * First Name * = required fieldPOPULAR TAGS\n",
      "Algo Trading Challenge Annual Santa Competition binary classification community computer vision CrowdFlower Search Results Relevance Dark Matter Deloitte diabetes Diabetic Retinopathy EEG data Elo Chess Ratings Competition Eurovision Challenge Facebook Recruiting Flavours of Physics: Finding τ → μμμ Flight Quest Grasp-and-Lift EEG Detection Heritage Health Prize How Much Did It Rain? image classification Intel Kaggle InClass Kernels logistic regression March Mania Merck multiclass classification natural language processing optimization problem Otto Product Classification Owen Zhang Practice Fusion Product Product News Profiling Top Kagglers Recruiting regression problem scikit-learn scripts of the week The Hunt for Prohibited Content Tourism Forecasting Tutorial video series Wikipedia Challenge XGBoostARCHIVES\n",
      "Archives Select Month July 2016 June 2016 May 2016 April 2016 March 2016 February 2016 January 2016 December 2015 November 2015 October 2015 September 2015 August 2015 July 2015 June 2015 May 2015 April 2015 March 2015 February 2015 January 2015 December 2014 November 2014 September 2014 August 2014 July 2014 June 2014 May 2014 April 2014 March 2014 February 2014 January 2014 December 2013 November 2013 September 2013 August 2013 July 2013 June 2013 May 2013 April 2013 March 2013 February 2013 January 2013 December 2012 November 2012 October 2012 September 2012 August 2012 July 2012 June 2012 May 2012 April 2012 March 2012 February 2012 January 2012 December 2011 November 2011 October 2011 September 2011 August 2011 July 2011 June 2011 May 2011 April 2011 March 2011 February 2011 January 2011 December 2010 November 2010 October 2010 September 2010 August 2010 July 2010 June 2010 May 2010 April 2010 Toggle the Widgetbar\n"
     ]
    },
    {
     "data": {
      "text/plain": [
       "[None]"
      ]
     },
     "execution_count": 9,
     "metadata": {},
     "output_type": "execute_result"
    }
   ],
   "source": [
    "# Apparently, an article can be anything: a blog post, notebook, link to a video, etc.\n",
    "[print(b) for b in df_content['doc_body'].to_list()[1:2]]"
   ]
  },
  {
   "cell_type": "code",
   "execution_count": 10,
   "metadata": {
    "tags": []
   },
   "outputs": [
    {
     "data": {
      "text/html": [
       "<div>\n",
       "<style scoped>\n",
       "    .dataframe tbody tr th:only-of-type {\n",
       "        vertical-align: middle;\n",
       "    }\n",
       "\n",
       "    .dataframe tbody tr th {\n",
       "        vertical-align: top;\n",
       "    }\n",
       "\n",
       "    .dataframe thead th {\n",
       "        text-align: right;\n",
       "    }\n",
       "</style>\n",
       "<table border=\"1\" class=\"dataframe\">\n",
       "  <thead>\n",
       "    <tr style=\"text-align: right;\">\n",
       "      <th></th>\n",
       "      <th>article_id</th>\n",
       "      <th>title</th>\n",
       "      <th>email</th>\n",
       "    </tr>\n",
       "  </thead>\n",
       "  <tbody>\n",
       "    <tr>\n",
       "      <th>1935</th>\n",
       "      <td>0.0</td>\n",
       "      <td>detect malfunctioning iot sensors with streami...</td>\n",
       "      <td>384255292a8223e84f05ca1e1deaa450c993e148</td>\n",
       "    </tr>\n",
       "    <tr>\n",
       "      <th>1936</th>\n",
       "      <td>0.0</td>\n",
       "      <td>detect malfunctioning iot sensors with streami...</td>\n",
       "      <td>384255292a8223e84f05ca1e1deaa450c993e148</td>\n",
       "    </tr>\n",
       "    <tr>\n",
       "      <th>1937</th>\n",
       "      <td>0.0</td>\n",
       "      <td>detect malfunctioning iot sensors with streami...</td>\n",
       "      <td>384255292a8223e84f05ca1e1deaa450c993e148</td>\n",
       "    </tr>\n",
       "    <tr>\n",
       "      <th>1973</th>\n",
       "      <td>0.0</td>\n",
       "      <td>detect malfunctioning iot sensors with streami...</td>\n",
       "      <td>db8ac9b2f552db35750239ada8bfcb59b3ae48c0</td>\n",
       "    </tr>\n",
       "    <tr>\n",
       "      <th>2302</th>\n",
       "      <td>0.0</td>\n",
       "      <td>detect malfunctioning iot sensors with streami...</td>\n",
       "      <td>74ca1ae8b034f7fad73a54d55fb1f58747f00493</td>\n",
       "    </tr>\n",
       "    <tr>\n",
       "      <th>...</th>\n",
       "      <td>...</td>\n",
       "      <td>...</td>\n",
       "      <td>...</td>\n",
       "    </tr>\n",
       "    <tr>\n",
       "      <th>45233</th>\n",
       "      <td>2.0</td>\n",
       "      <td>this week in data science (april 18, 2017)</td>\n",
       "      <td>75b11547437d86c21fa34ecf3e15bb8ec4f79c69</td>\n",
       "    </tr>\n",
       "    <tr>\n",
       "      <th>45243</th>\n",
       "      <td>2.0</td>\n",
       "      <td>this week in data science (april 18, 2017)</td>\n",
       "      <td>75b11547437d86c21fa34ecf3e15bb8ec4f79c69</td>\n",
       "    </tr>\n",
       "    <tr>\n",
       "      <th>45880</th>\n",
       "      <td>2.0</td>\n",
       "      <td>this week in data science (april 18, 2017)</td>\n",
       "      <td>e90de4b883d9de64a47774ad7ad49ca6fd69d4fe</td>\n",
       "    </tr>\n",
       "    <tr>\n",
       "      <th>45896</th>\n",
       "      <td>2.0</td>\n",
       "      <td>this week in data science (april 18, 2017)</td>\n",
       "      <td>e90de4b883d9de64a47774ad7ad49ca6fd69d4fe</td>\n",
       "    </tr>\n",
       "    <tr>\n",
       "      <th>45931</th>\n",
       "      <td>2.0</td>\n",
       "      <td>this week in data science (april 18, 2017)</td>\n",
       "      <td>e90de4b883d9de64a47774ad7ad49ca6fd69d4fe</td>\n",
       "    </tr>\n",
       "  </tbody>\n",
       "</table>\n",
       "<p>85 rows × 3 columns</p>\n",
       "</div>"
      ],
      "text/plain": [
       "       article_id                                              title   \n",
       "1935          0.0  detect malfunctioning iot sensors with streami...  \\\n",
       "1936          0.0  detect malfunctioning iot sensors with streami...   \n",
       "1937          0.0  detect malfunctioning iot sensors with streami...   \n",
       "1973          0.0  detect malfunctioning iot sensors with streami...   \n",
       "2302          0.0  detect malfunctioning iot sensors with streami...   \n",
       "...           ...                                                ...   \n",
       "45233         2.0         this week in data science (april 18, 2017)   \n",
       "45243         2.0         this week in data science (april 18, 2017)   \n",
       "45880         2.0         this week in data science (april 18, 2017)   \n",
       "45896         2.0         this week in data science (april 18, 2017)   \n",
       "45931         2.0         this week in data science (april 18, 2017)   \n",
       "\n",
       "                                          email  \n",
       "1935   384255292a8223e84f05ca1e1deaa450c993e148  \n",
       "1936   384255292a8223e84f05ca1e1deaa450c993e148  \n",
       "1937   384255292a8223e84f05ca1e1deaa450c993e148  \n",
       "1973   db8ac9b2f552db35750239ada8bfcb59b3ae48c0  \n",
       "2302   74ca1ae8b034f7fad73a54d55fb1f58747f00493  \n",
       "...                                         ...  \n",
       "45233  75b11547437d86c21fa34ecf3e15bb8ec4f79c69  \n",
       "45243  75b11547437d86c21fa34ecf3e15bb8ec4f79c69  \n",
       "45880  e90de4b883d9de64a47774ad7ad49ca6fd69d4fe  \n",
       "45896  e90de4b883d9de64a47774ad7ad49ca6fd69d4fe  \n",
       "45931  e90de4b883d9de64a47774ad7ad49ca6fd69d4fe  \n",
       "\n",
       "[85 rows x 3 columns]"
      ]
     },
     "execution_count": 10,
     "metadata": {},
     "output_type": "execute_result"
    }
   ],
   "source": [
    "# Interactions of articles with ids 0-4\n",
    "df[np.isin(df.article_id, range(5))]"
   ]
  },
  {
   "cell_type": "markdown",
   "metadata": {},
   "source": [
    "### <a class=\"anchor\" id=\"Exploratory-Data-Analysis\">Part I : Exploratory Data Analysis</a>\n",
    "\n",
    "Use the dictionary and cells below to provide some insight into the descriptive statistics of the data.\n",
    "\n",
    "`1.` What is the distribution of how many articles a user interacts with in the dataset?  Provide a visual and descriptive statistics to assist with giving a look at the number of times each user interacts with an article.  "
   ]
  },
  {
   "cell_type": "code",
   "execution_count": 11,
   "metadata": {
    "tags": []
   },
   "outputs": [],
   "source": [
    "df_tmp = df.groupby('email')['article_id'].size().to_frame()\n",
    "df_tmp.columns = ['num_articles']"
   ]
  },
  {
   "cell_type": "code",
   "execution_count": 12,
   "metadata": {
    "tags": []
   },
   "outputs": [
    {
     "data": {
      "text/plain": [
       "<Axes: ylabel='Frequency'>"
      ]
     },
     "execution_count": 12,
     "metadata": {},
     "output_type": "execute_result"
    },
    {
     "data": {
      "image/png": "[encoded data removed]",
      "text/plain": [
       "<Figure size 640x480 with 1 Axes>"
      ]
     },
     "metadata": {},
     "output_type": "display_data"
    }
   ],
   "source": [
    "df_tmp.plot(kind='hist', bins=50)"
   ]
  },
  {
   "cell_type": "code",
   "execution_count": 13,
   "metadata": {
    "tags": []
   },
   "outputs": [
    {
     "name": "stdout",
     "output_type": "stream",
     "text": [
      "3.0\n",
      "364\n"
     ]
    }
   ],
   "source": [
    "# Fill in the median and maximum number of user_article interactios below\n",
    "# 50% of individuals interact with ____ number of articles or fewer.\n",
    "median_val = df_tmp.num_articles.median()\n",
    "print(median_val)\n",
    "# The maximum number of user-article interactions by any 1 user is ______.\n",
    "max_views_by_user = df_tmp.num_articles.max()\n",
    "print(max_views_by_user)"
   ]
  },
  {
   "cell_type": "markdown",
   "metadata": {},
   "source": [
    "`2.` Explore and remove duplicate articles from the **df_content** dataframe.  "
   ]
  },
  {
   "cell_type": "code",
   "execution_count": 14,
   "metadata": {
    "tags": []
   },
   "outputs": [],
   "source": [
    "# Find and explore duplicate articles\n",
    "duplicate = df_content[df_content.duplicated(['article_id'])]"
   ]
  },
  {
   "cell_type": "code",
   "execution_count": 15,
   "metadata": {
    "tags": []
   },
   "outputs": [
    {
     "data": {
      "text/plain": [
       "(5, 5)"
      ]
     },
     "execution_count": 15,
     "metadata": {},
     "output_type": "execute_result"
    }
   ],
   "source": [
    "duplicate.shape"
   ]
  },
  {
   "cell_type": "code",
   "execution_count": 16,
   "metadata": {
    "tags": []
   },
   "outputs": [
    {
     "data": {
      "text/html": [
       "<div>\n",
       "<style scoped>\n",
       "    .dataframe tbody tr th:only-of-type {\n",
       "        vertical-align: middle;\n",
       "    }\n",
       "\n",
       "    .dataframe tbody tr th {\n",
       "        vertical-align: top;\n",
       "    }\n",
       "\n",
       "    .dataframe thead th {\n",
       "        text-align: right;\n",
       "    }\n",
       "</style>\n",
       "<table border=\"1\" class=\"dataframe\">\n",
       "  <thead>\n",
       "    <tr style=\"text-align: right;\">\n",
       "      <th></th>\n",
       "      <th>doc_body</th>\n",
       "      <th>doc_description</th>\n",
       "      <th>doc_full_name</th>\n",
       "      <th>doc_status</th>\n",
       "      <th>article_id</th>\n",
       "    </tr>\n",
       "  </thead>\n",
       "  <tbody>\n",
       "    <tr>\n",
       "      <th>365</th>\n",
       "      <td>Follow Sign in / Sign up Home About Insight Da...</td>\n",
       "      <td>During the seven-week Insight Data Engineering...</td>\n",
       "      <td>Graph-based machine learning</td>\n",
       "      <td>Live</td>\n",
       "      <td>50</td>\n",
       "    </tr>\n",
       "    <tr>\n",
       "      <th>692</th>\n",
       "      <td>Homepage Follow Sign in / Sign up Homepage * H...</td>\n",
       "      <td>One of the earliest documented catalogs was co...</td>\n",
       "      <td>How smart catalogs can turn the big data flood...</td>\n",
       "      <td>Live</td>\n",
       "      <td>221</td>\n",
       "    </tr>\n",
       "    <tr>\n",
       "      <th>761</th>\n",
       "      <td>Homepage Follow Sign in Get started Homepage *...</td>\n",
       "      <td>Today’s world of data science leverages data f...</td>\n",
       "      <td>Using Apache Spark as a parallel processing fr...</td>\n",
       "      <td>Live</td>\n",
       "      <td>398</td>\n",
       "    </tr>\n",
       "    <tr>\n",
       "      <th>970</th>\n",
       "      <td>This video shows you how to construct queries ...</td>\n",
       "      <td>This video shows you how to construct queries ...</td>\n",
       "      <td>Use the Primary Index</td>\n",
       "      <td>Live</td>\n",
       "      <td>577</td>\n",
       "    </tr>\n",
       "    <tr>\n",
       "      <th>971</th>\n",
       "      <td>Homepage Follow Sign in Get started * Home\\r\\n...</td>\n",
       "      <td>If you are like most data scientists, you are ...</td>\n",
       "      <td>Self-service data preparation with IBM Data Re...</td>\n",
       "      <td>Live</td>\n",
       "      <td>232</td>\n",
       "    </tr>\n",
       "  </tbody>\n",
       "</table>\n",
       "</div>"
      ],
      "text/plain": [
       "                                              doc_body   \n",
       "365  Follow Sign in / Sign up Home About Insight Da...  \\\n",
       "692  Homepage Follow Sign in / Sign up Homepage * H...   \n",
       "761  Homepage Follow Sign in Get started Homepage *...   \n",
       "970  This video shows you how to construct queries ...   \n",
       "971  Homepage Follow Sign in Get started * Home\\r\\n...   \n",
       "\n",
       "                                       doc_description   \n",
       "365  During the seven-week Insight Data Engineering...  \\\n",
       "692  One of the earliest documented catalogs was co...   \n",
       "761  Today’s world of data science leverages data f...   \n",
       "970  This video shows you how to construct queries ...   \n",
       "971  If you are like most data scientists, you are ...   \n",
       "\n",
       "                                         doc_full_name doc_status  article_id  \n",
       "365                       Graph-based machine learning       Live          50  \n",
       "692  How smart catalogs can turn the big data flood...       Live         221  \n",
       "761  Using Apache Spark as a parallel processing fr...       Live         398  \n",
       "970                              Use the Primary Index       Live         577  \n",
       "971  Self-service data preparation with IBM Data Re...       Live         232  "
      ]
     },
     "execution_count": 16,
     "metadata": {},
     "output_type": "execute_result"
    }
   ],
   "source": [
    "duplicate"
   ]
  },
  {
   "cell_type": "code",
   "execution_count": 17,
   "metadata": {
    "tags": []
   },
   "outputs": [
    {
     "data": {
      "text/html": [
       "<div>\n",
       "<style scoped>\n",
       "    .dataframe tbody tr th:only-of-type {\n",
       "        vertical-align: middle;\n",
       "    }\n",
       "\n",
       "    .dataframe tbody tr th {\n",
       "        vertical-align: top;\n",
       "    }\n",
       "\n",
       "    .dataframe thead th {\n",
       "        text-align: right;\n",
       "    }\n",
       "</style>\n",
       "<table border=\"1\" class=\"dataframe\">\n",
       "  <thead>\n",
       "    <tr style=\"text-align: right;\">\n",
       "      <th></th>\n",
       "      <th>doc_body</th>\n",
       "      <th>doc_description</th>\n",
       "      <th>doc_full_name</th>\n",
       "      <th>doc_status</th>\n",
       "      <th>article_id</th>\n",
       "    </tr>\n",
       "  </thead>\n",
       "  <tbody>\n",
       "    <tr>\n",
       "      <th>50</th>\n",
       "      <td>Follow Sign in / Sign up Home About Insight Da...</td>\n",
       "      <td>Community Detection at Scale</td>\n",
       "      <td>Graph-based machine learning</td>\n",
       "      <td>Live</td>\n",
       "      <td>50</td>\n",
       "    </tr>\n",
       "    <tr>\n",
       "      <th>365</th>\n",
       "      <td>Follow Sign in / Sign up Home About Insight Da...</td>\n",
       "      <td>During the seven-week Insight Data Engineering...</td>\n",
       "      <td>Graph-based machine learning</td>\n",
       "      <td>Live</td>\n",
       "      <td>50</td>\n",
       "    </tr>\n",
       "  </tbody>\n",
       "</table>\n",
       "</div>"
      ],
      "text/plain": [
       "                                              doc_body   \n",
       "50   Follow Sign in / Sign up Home About Insight Da...  \\\n",
       "365  Follow Sign in / Sign up Home About Insight Da...   \n",
       "\n",
       "                                       doc_description   \n",
       "50                        Community Detection at Scale  \\\n",
       "365  During the seven-week Insight Data Engineering...   \n",
       "\n",
       "                    doc_full_name doc_status  article_id  \n",
       "50   Graph-based machine learning       Live          50  \n",
       "365  Graph-based machine learning       Live          50  "
      ]
     },
     "execution_count": 17,
     "metadata": {},
     "output_type": "execute_result"
    }
   ],
   "source": [
    "df_content[df_content.article_id == 50]"
   ]
  },
  {
   "cell_type": "code",
   "execution_count": 18,
   "metadata": {
    "tags": []
   },
   "outputs": [],
   "source": [
    "# Remove any rows that have the same article_id - only keep the first\n",
    "df_content = df_content.drop_duplicates().reset_index(drop=True)"
   ]
  },
  {
   "cell_type": "markdown",
   "metadata": {},
   "source": [
    "`3.` Use the cells below to find:\n",
    "\n",
    "**a.** The number of unique articles that have an interaction with a user.  \n",
    "**b.** The number of unique articles in the dataset (whether they have any interactions or not).<br>\n",
    "**c.** The number of unique users in the dataset. (excluding null values) <br>\n",
    "**d.** The number of user-article interactions in the dataset."
   ]
  },
  {
   "cell_type": "code",
   "execution_count": 19,
   "metadata": {
    "tags": []
   },
   "outputs": [],
   "source": [
    "# The number of unique articles that have at least one interaction\n",
    "unique_articles = df.article_id.nunique()\n",
    "# The number of unique articles on the IBM platform\n",
    "total_articles = df_content.article_id.nunique()\n",
    "# The number of unique users\n",
    "unique_users = df.email.nunique()\n",
    "# The number of user-article interactions\n",
    "user_article_interactions = df.shape[0]"
   ]
  },
  {
   "cell_type": "markdown",
   "metadata": {},
   "source": [
    "`4.` Use the cells below to find the most viewed **article_id**, as well as how often it was viewed.  After talking to the company leaders, the `email_mapper` function was deemed a reasonable way to map users to ids.  There were a small number of null values, and it was found that all of these null values likely belonged to a single user (which is how they are stored using the function below)."
   ]
  },
  {
   "cell_type": "code",
   "execution_count": 20,
   "metadata": {
    "tags": []
   },
   "outputs": [
    {
     "name": "stdout",
     "output_type": "stream",
     "text": [
      "1429\n",
      "937\n",
      "article_id\n",
      "1429.0    937\n",
      "1330.0    927\n",
      "1431.0    671\n",
      "1427.0    643\n",
      "1364.0    627\n",
      "         ... \n",
      "1113.0      1\n",
      "1119.0      1\n",
      "984.0       1\n",
      "1127.0      1\n",
      "1266.0      1\n",
      "Length: 714, dtype: int64\n"
     ]
    }
   ],
   "source": [
    "# The most viewed article in the dataset as a string with one value following the decimal \n",
    "most_viewed_article_id = int(df.groupby(\"article_id\").size().sort_values(ascending=False).index[0])\n",
    "# The most viewed article in the dataset was viewed how many times?\n",
    "max_views = df.groupby(\"article_id\").size().sort_values(ascending=False).iloc[0]\n",
    "print(most_viewed_article_id)\n",
    "print(max_views)\n",
    "print(df.groupby(\"article_id\").size().sort_values(ascending=False))"
   ]
  },
  {
   "cell_type": "code",
   "execution_count": 21,
   "metadata": {
    "tags": []
   },
   "outputs": [
    {
     "data": {
      "text/html": [
       "<div>\n",
       "<style scoped>\n",
       "    .dataframe tbody tr th:only-of-type {\n",
       "        vertical-align: middle;\n",
       "    }\n",
       "\n",
       "    .dataframe tbody tr th {\n",
       "        vertical-align: top;\n",
       "    }\n",
       "\n",
       "    .dataframe thead th {\n",
       "        text-align: right;\n",
       "    }\n",
       "</style>\n",
       "<table border=\"1\" class=\"dataframe\">\n",
       "  <thead>\n",
       "    <tr style=\"text-align: right;\">\n",
       "      <th></th>\n",
       "      <th>article_id</th>\n",
       "      <th>title</th>\n",
       "      <th>user_id</th>\n",
       "    </tr>\n",
       "  </thead>\n",
       "  <tbody>\n",
       "    <tr>\n",
       "      <th>0</th>\n",
       "      <td>1430.0</td>\n",
       "      <td>using pixiedust for fast, flexible, and easier...</td>\n",
       "      <td>1</td>\n",
       "    </tr>\n",
       "    <tr>\n",
       "      <th>1</th>\n",
       "      <td>1314.0</td>\n",
       "      <td>healthcare python streaming application demo</td>\n",
       "      <td>2</td>\n",
       "    </tr>\n",
       "    <tr>\n",
       "      <th>2</th>\n",
       "      <td>1429.0</td>\n",
       "      <td>use deep learning for image classification</td>\n",
       "      <td>3</td>\n",
       "    </tr>\n",
       "    <tr>\n",
       "      <th>3</th>\n",
       "      <td>1338.0</td>\n",
       "      <td>ml optimization using cognitive assistant</td>\n",
       "      <td>4</td>\n",
       "    </tr>\n",
       "    <tr>\n",
       "      <th>4</th>\n",
       "      <td>1276.0</td>\n",
       "      <td>deploy your python model as a restful api</td>\n",
       "      <td>5</td>\n",
       "    </tr>\n",
       "  </tbody>\n",
       "</table>\n",
       "</div>"
      ],
      "text/plain": [
       "   article_id                                              title  user_id\n",
       "0      1430.0  using pixiedust for fast, flexible, and easier...        1\n",
       "1      1314.0       healthcare python streaming application demo        2\n",
       "2      1429.0         use deep learning for image classification        3\n",
       "3      1338.0          ml optimization using cognitive assistant        4\n",
       "4      1276.0          deploy your python model as a restful api        5"
      ]
     },
     "execution_count": 21,
     "metadata": {},
     "output_type": "execute_result"
    }
   ],
   "source": [
    "## No need to change the code here - this will be helpful for later parts of the notebook\n",
    "# Run this cell to map the user email to a user_id column and remove the email column\n",
    "\n",
    "def email_mapper():\n",
    "    coded_dict = dict()\n",
    "    cter = 1\n",
    "    email_encoded = []\n",
    "    \n",
    "    for val in df['email']:\n",
    "        if val not in coded_dict:\n",
    "            coded_dict[val] = cter\n",
    "            cter+=1\n",
    "        \n",
    "        email_encoded.append(coded_dict[val])\n",
    "    return email_encoded\n",
    "\n",
    "email_encoded = email_mapper()\n",
    "del df['email']\n",
    "df['user_id'] = email_encoded\n",
    "\n",
    "# show header\n",
    "df.head()"
   ]
  },
  {
   "cell_type": "code",
   "execution_count": 22,
   "metadata": {
    "tags": []
   },
   "outputs": [
    {
     "name": "stdout",
     "output_type": "stream",
     "text": [
      "It looks like you have everything right here! Nice job!\n"
     ]
    }
   ],
   "source": [
    "## If you stored all your results in the variable names above, \n",
    "## you shouldn't need to change anything in this cell\n",
    "\n",
    "sol_1_dict = {\n",
    "    '`50% of individuals have _____ or fewer interactions.`': median_val,\n",
    "    '`The total number of user-article interactions in the dataset is ______.`': user_article_interactions,\n",
    "    '`The maximum number of user-article interactions by any 1 user is ______.`': max_views_by_user,\n",
    "    '`The most viewed article in the dataset was viewed _____ times.`': max_views,\n",
    "    '`The article_id of the most viewed article is ______.`': most_viewed_article_id,\n",
    "    '`The number of unique articles that have at least 1 rating ______.`': unique_articles,\n",
    "    '`The number of unique users in the dataset is ______`': unique_users,\n",
    "    '`The number of unique articles on the IBM platform`': total_articles\n",
    "}\n",
    "\n",
    "# Test your dictionary against the solution\n",
    "t.sol_1_test(sol_1_dict)"
   ]
  },
  {
   "cell_type": "markdown",
   "metadata": {},
   "source": [
    "### <a class=\"anchor\" id=\"Rank\">Part II: Rank-Based Recommendations</a>\n",
    "\n",
    "Unlike in the earlier lessons, we don't actually have ratings for whether a user liked an article or not.  We only know that a user has interacted with an article.  In these cases, the popularity of an article can really only be based on how often an article was interacted with.\n",
    "\n",
    "`1.` Fill in the function below to return the **n** top articles ordered with most interactions as the top. Test your function using the tests below."
   ]
  },
  {
   "cell_type": "code",
   "execution_count": 23,
   "metadata": {
    "tags": []
   },
   "outputs": [],
   "source": [
    "def get_top_articles(n, df=df):\n",
    "    '''Get the most interacted articles.\n",
    "\n",
    "    Args:\n",
    "        n - (int) the number of top articles to return\n",
    "        df - (pandas dataframe) df with user-item interactions in long-form\n",
    "    \n",
    "    Returns:\n",
    "        top_articles - (list) A list of the top 'n' article titles     \n",
    "    '''\n",
    "    top_ids = df.groupby(\"article_id\").size().sort_values(ascending=False).iloc[:n].index.to_list()\n",
    "    titles = df.groupby(\"article_id\")['title'].first().to_frame()\n",
    "    top_articles = [titles[titles.index == idx]['title'].values[0] for idx in top_ids]\n",
    "    \n",
    "    return top_articles\n",
    "\n",
    "def get_top_article_ids(n, df=df):\n",
    "    '''Get the id of the most interacted articles.\n",
    "    \n",
    "    Args:\n",
    "        n - (int) the number of top articles to return\n",
    "        df - (pandas dataframe) df with user-item interactions in long-form\n",
    "    \n",
    "    Returns:\n",
    "        top_articles - (list) A list of the top 'n' article titles \n",
    "    '''\n",
    "    top_articles = df.groupby(\"article_id\").size().sort_values(ascending=False).iloc[:n].index.to_list()\n",
    " \n",
    "    return top_articles"
   ]
  },
  {
   "cell_type": "code",
   "execution_count": 24,
   "metadata": {
    "tags": []
   },
   "outputs": [
    {
     "name": "stdout",
     "output_type": "stream",
     "text": [
      "['use deep learning for image classification', 'insights from new york car accident reports', 'visualize car data with brunel', 'use xgboost, scikit-learn & ibm watson machine learning apis', 'predicting churn with the spss random tree algorithm', 'healthcare python streaming application demo', 'finding optimal locations of new store using decision optimization', 'apache spark lab, part 1: basic concepts', 'analyze energy consumption in buildings', 'gosales transactions for logistic regression model']\n",
      "[1429.0, 1330.0, 1431.0, 1427.0, 1364.0, 1314.0, 1293.0, 1170.0, 1162.0, 1304.0]\n"
     ]
    }
   ],
   "source": [
    "print(get_top_articles(n=10, df=df))\n",
    "print(get_top_article_ids(n=10, df=df))"
   ]
  },
  {
   "cell_type": "code",
   "execution_count": 25,
   "metadata": {
    "tags": []
   },
   "outputs": [
    {
     "name": "stdout",
     "output_type": "stream",
     "text": [
      "Your data/top_5 looks like the solution list! Nice job.\n",
      "Your data/top_10 looks like the solution list! Nice job.\n",
      "Your data/top_20 looks like the solution list! Nice job.\n"
     ]
    }
   ],
   "source": [
    "# Test your function by returning the top 5, 10, and 20 articles\n",
    "top_5 = get_top_articles(5, df)\n",
    "top_10 = get_top_articles(10, df)\n",
    "top_20 = get_top_articles(20, df)\n",
    "\n",
    "# Test each of your three lists from above\n",
    "t.sol_2_test(get_top_articles)"
   ]
  },
  {
   "cell_type": "markdown",
   "metadata": {},
   "source": [
    "### <a class=\"anchor\" id=\"User-User\">Part III: User-User Based Collaborative Filtering</a>\n",
    "\n",
    "\n",
    "`1.` Use the function below to reformat the **df** dataframe to be shaped with users as the rows and articles as the columns.  \n",
    "\n",
    "* Each **user** should only appear in each **row** once.\n",
    "\n",
    "\n",
    "* Each **article** should only show up in one **column**.  \n",
    "\n",
    "\n",
    "* **If a user has interacted with an article, then place a 1 where the user-row meets for that article-column**.  It does not matter how many times a user has interacted with the article, all entries where a user has interacted with an article should be a 1.  \n",
    "\n",
    "\n",
    "* **If a user has not interacted with an item, then place a zero where the user-row meets for that article-column**. \n",
    "\n",
    "Use the tests to make sure the basic structure of your matrix matches what is expected by the solution."
   ]
  },
  {
   "cell_type": "code",
   "execution_count": 26,
   "metadata": {
    "tags": []
   },
   "outputs": [
    {
     "data": {
      "text/html": [
       "<div>\n",
       "<style scoped>\n",
       "    .dataframe tbody tr th:only-of-type {\n",
       "        vertical-align: middle;\n",
       "    }\n",
       "\n",
       "    .dataframe tbody tr th {\n",
       "        vertical-align: top;\n",
       "    }\n",
       "\n",
       "    .dataframe thead th {\n",
       "        text-align: right;\n",
       "    }\n",
       "</style>\n",
       "<table border=\"1\" class=\"dataframe\">\n",
       "  <thead>\n",
       "    <tr style=\"text-align: right;\">\n",
       "      <th></th>\n",
       "      <th>article_id</th>\n",
       "      <th>title</th>\n",
       "      <th>user_id</th>\n",
       "    </tr>\n",
       "  </thead>\n",
       "  <tbody>\n",
       "    <tr>\n",
       "      <th>0</th>\n",
       "      <td>1430.0</td>\n",
       "      <td>using pixiedust for fast, flexible, and easier...</td>\n",
       "      <td>1</td>\n",
       "    </tr>\n",
       "    <tr>\n",
       "      <th>1</th>\n",
       "      <td>1314.0</td>\n",
       "      <td>healthcare python streaming application demo</td>\n",
       "      <td>2</td>\n",
       "    </tr>\n",
       "    <tr>\n",
       "      <th>2</th>\n",
       "      <td>1429.0</td>\n",
       "      <td>use deep learning for image classification</td>\n",
       "      <td>3</td>\n",
       "    </tr>\n",
       "    <tr>\n",
       "      <th>3</th>\n",
       "      <td>1338.0</td>\n",
       "      <td>ml optimization using cognitive assistant</td>\n",
       "      <td>4</td>\n",
       "    </tr>\n",
       "    <tr>\n",
       "      <th>4</th>\n",
       "      <td>1276.0</td>\n",
       "      <td>deploy your python model as a restful api</td>\n",
       "      <td>5</td>\n",
       "    </tr>\n",
       "  </tbody>\n",
       "</table>\n",
       "</div>"
      ],
      "text/plain": [
       "   article_id                                              title  user_id\n",
       "0      1430.0  using pixiedust for fast, flexible, and easier...        1\n",
       "1      1314.0       healthcare python streaming application demo        2\n",
       "2      1429.0         use deep learning for image classification        3\n",
       "3      1338.0          ml optimization using cognitive assistant        4\n",
       "4      1276.0          deploy your python model as a restful api        5"
      ]
     },
     "execution_count": 26,
     "metadata": {},
     "output_type": "execute_result"
    }
   ],
   "source": [
    "df.head()"
   ]
  },
  {
   "cell_type": "code",
   "execution_count": 27,
   "metadata": {
    "tags": []
   },
   "outputs": [],
   "source": [
    "# create the user-article matrix with 1's and 0's\n",
    "\n",
    "def create_user_item_matrix(df):\n",
    "    '''Return a matrix with user ids as rows and article ids on the columns with 1 values where a user interacted with \n",
    "    an article and a 0 otherwise.\n",
    "    \n",
    "    Args:\n",
    "        df - pandas dataframe with article_id, title, user_id columns\n",
    "    \n",
    "    Returns:\n",
    "        user_item - user item matrix \n",
    "    '''\n",
    "    df_ = df.copy()\n",
    "    df_['interaction'] = 1\n",
    "    user_item = df_.groupby(['user_id', 'article_id'])['interaction'].max().unstack().fillna(0)\n",
    "\n",
    "    return user_item\n",
    "\n",
    "user_item = create_user_item_matrix(df)"
   ]
  },
  {
   "cell_type": "code",
   "execution_count": 28,
   "metadata": {
    "tags": []
   },
   "outputs": [
    {
     "name": "stdout",
     "output_type": "stream",
     "text": [
      "You have passed our quick tests!  Please proceed!\n"
     ]
    }
   ],
   "source": [
    "## Tests: You should just need to run this cell.  Don't change the code.\n",
    "assert user_item.shape[0] == 5149, \"Oops!  The number of users in the user-article matrix doesn't look right.\"\n",
    "assert user_item.shape[1] == 714, \"Oops!  The number of articles in the user-article matrix doesn't look right.\"\n",
    "assert user_item.sum(axis=1)[1] == 36, \"Oops!  The number of articles seen by user 1 doesn't look right.\"\n",
    "print(\"You have passed our quick tests!  Please proceed!\")"
   ]
  },
  {
   "cell_type": "markdown",
   "metadata": {},
   "source": [
    "`2.` Complete the function below which should take a user_id and provide an ordered list of the most similar users to that user (from most similar to least similar).  The returned result should not contain the provided user_id, as we know that each user is similar to him/herself. Because the results for each user here are binary, it (perhaps) makes sense to compute similarity as the dot product of two users. \n",
    "\n",
    "Use the tests to test your function."
   ]
  },
  {
   "cell_type": "code",
   "execution_count": 29,
   "metadata": {
    "tags": []
   },
   "outputs": [],
   "source": [
    "def find_similar_users(user_id, user_item=user_item):\n",
    "    '''Computes the similarity of every pair of users based on the dot product.\n",
    "    Returns are ordered.\n",
    "    \n",
    "    Args:\n",
    "        user_id - (int) a user_id\n",
    "        user_item - (pandas dataframe) matrix of users by articles: \n",
    "                    1's when a user has interacted with an article, 0 otherwise\n",
    "    \n",
    "    Returns:\n",
    "        similar_users - (list) an ordered list where the closest users (largest dot product users)\n",
    "                        are listed first\n",
    "    '''\n",
    "    most_similar_users = None\n",
    "    \n",
    "    if user_id in user_item.index.to_list():\n",
    "        # Compute similarity of each user to the provided user\n",
    "        #dot_prod_users = user_item.dot(np.transpose(user_item))\n",
    "        #sims = dot_prod_users[dot_prod_users.index == user_id].T\n",
    "        sims = pd.DataFrame(np.dot(user_item[user_item.index == user_id], user_item.T)[0],\n",
    "                            index=user_item.index,\n",
    "                            columns=['similarity'])\n",
    "        \n",
    "        # sort by similarity\n",
    "        # create list of just the ids\n",
    "        # remove the own user's id\n",
    "        most_similar_users = sims.sort_values(by=\"similarity\", ascending=False).iloc[1:].index.to_list()\n",
    "\n",
    "    return most_similar_users"
   ]
  },
  {
   "cell_type": "code",
   "execution_count": 30,
   "metadata": {
    "tags": []
   },
   "outputs": [
    {
     "name": "stdout",
     "output_type": "stream",
     "text": [
      "The 10 most similar users to user 1 are: [3933, 23, 3782, 203, 4459, 3870, 131, 4201, 46, 5041]\n",
      "The 5 most similar users to user 3933 are: [3933, 23, 3782, 203, 4459]\n",
      "The 3 most similar users to user 46 are: [4201, 3782, 23]\n"
     ]
    }
   ],
   "source": [
    "# Do a spot check of your function\n",
    "print(\"The 10 most similar users to user 1 are: {}\".format(find_similar_users(1)[:10]))\n",
    "print(\"The 5 most similar users to user 3933 are: {}\".format(find_similar_users(3933)[:5]))\n",
    "print(\"The 3 most similar users to user 46 are: {}\".format(find_similar_users(46)[:3]))"
   ]
  },
  {
   "cell_type": "markdown",
   "metadata": {},
   "source": [
    "`3.` Now that you have a function that provides the most similar users to each user, you will want to use these users to find articles you can recommend.  Complete the functions below to return the articles you would recommend to each user. "
   ]
  },
  {
   "cell_type": "code",
   "execution_count": 31,
   "metadata": {
    "tags": []
   },
   "outputs": [],
   "source": [
    "def get_article_names(article_ids, df=df):\n",
    "    '''Given a list of article ids, return their names.\n",
    "    \n",
    "    Args:\n",
    "        article_ids - (list) a list of article ids\n",
    "        df - (pandas dataframe) df as defined at the top of the notebook\n",
    "    \n",
    "    Returns:\n",
    "        article_names - (list) a list of article names associated with the list of article ids \n",
    "                        (this is identified by the title column)\n",
    "    '''\n",
    "    # Cast to float, because the df has the values as floats\n",
    "    article_ids = [float(article_id) for article_id in article_ids]\n",
    "    article_names = [df[df.article_id == idx].title.unique()[0] for idx in article_ids if idx in df.article_id]\n",
    "    \n",
    "    return article_names\n",
    "\n",
    "\n",
    "def get_user_articles(user_id, user_item=user_item, df=df):\n",
    "    '''Provides a list of the article_ids and article titles that have been seen by a user.\n",
    "\n",
    "    Args:\n",
    "        user_id - (int) a user id\n",
    "        user_item - (pandas dataframe) matrix of users by articles: \n",
    "                    1's when a user has interacted with an article, 0 otherwise\n",
    "    \n",
    "    Returns:\n",
    "        article_ids - (list) a list of the article ids seen by the user\n",
    "        article_names - (list) a list of article names associated with the list of article ids \n",
    "                        (this is identified by the doc_full_name column in df_content)\n",
    "    '''\n",
    "    user_col = user_item.loc[user_item.index == user_id].T\n",
    "    article_ids = user_col.loc[user_col[user_id]>0.0].index.to_list()\n",
    "    article_names = get_article_names(article_ids, df)\n",
    "\n",
    "    # Cast to str, because the user interacts with strs\n",
    "    article_ids = [str(article_id) for article_id in article_ids]\n",
    "\n",
    "    return article_ids, article_names\n",
    "\n",
    "\n",
    "def user_user_recs(user_id, m=10, user_item=user_item, df=df):\n",
    "    '''Loops through the users based on closeness to the input user_id\n",
    "    For each user - finds articles the user hasn't seen before and provides them as recs.\n",
    "    Does this until m recommendations are found\n",
    "\n",
    "    Notes:\n",
    "    - Users who are the same closeness are chosen arbitrarily as the 'next' user    \n",
    "    - For the user where the number of recommended articles starts below m \n",
    "    and ends exceeding m, the last items are chosen arbitrarily\n",
    "\n",
    "    Args:\n",
    "        user_id - (int) a user id\n",
    "        m - (int) the number of recommendations you want for the user\n",
    "    \n",
    "    Returns:\n",
    "        recs - (list) a list of recommendations for the user\n",
    "    '''\n",
    "    similar_user_ids = find_similar_users(user_id, user_item=user_item)\n",
    "    this_user_article_ids, _ = get_user_articles(user_id, user_item=user_item, df=df) \n",
    "    \n",
    "    recs = set()\n",
    "    for other_user_id in similar_user_ids:\n",
    "        #print(other_user_id)\n",
    "        other_user_article_ids, _ = get_user_articles(other_user_id, user_item=user_item, df=df)\n",
    "        for article_id in other_user_article_ids:\n",
    "            if article_id not in this_user_article_ids:\n",
    "                #print(article_id)\n",
    "                recs.add(article_id)\n",
    "            if len(recs) >= m:\n",
    "                break\n",
    "        if len(recs) >= m:\n",
    "            break        \n",
    "    \n",
    "    recs = list(recs)\n",
    "\n",
    "    return recs "
   ]
  },
  {
   "cell_type": "code",
   "execution_count": 32,
   "metadata": {
    "tags": []
   },
   "outputs": [
    {
     "data": {
      "text/plain": [
       "['29.0', '2.0', '12.0', '26.0', '74.0', '33.0', '16.0', '50.0', '28.0', '14.0']"
      ]
     },
     "execution_count": 32,
     "metadata": {},
     "output_type": "execute_result"
    }
   ],
   "source": [
    "user_user_recs(1, 10)"
   ]
  },
  {
   "cell_type": "code",
   "execution_count": 33,
   "metadata": {
    "tags": []
   },
   "outputs": [
    {
     "data": {
      "text/plain": [
       "['experience iot with coursera',\n",
       " 'this week in data science (april 18, 2017)',\n",
       " 'timeseries data analysis of iot events by using jupyter notebook',\n",
       " 'using machine learning to predict parking difficulty',\n",
       " 'the 3 kinds of context: machine learning and the art of the frame',\n",
       " 'using brunel in ipython/jupyter notebooks',\n",
       " 'higher-order logistic regression for large datasets',\n",
       " 'graph-based machine learning',\n",
       " 'deep forest: towards an alternative to deep neural networks',\n",
       " 'got zip code data? prep it for analytics. – ibm watson data lab – medium']"
      ]
     },
     "execution_count": 33,
     "metadata": {},
     "output_type": "execute_result"
    }
   ],
   "source": [
    "# Check Results\n",
    "get_article_names(user_user_recs(1, 10)) # Return 10 recommendations for user 1"
   ]
  },
  {
   "cell_type": "code",
   "execution_count": 34,
   "metadata": {
    "tags": []
   },
   "outputs": [
    {
     "data": {
      "text/plain": [
       "['using deep learning to reconstruct high-resolution audio']"
      ]
     },
     "execution_count": 34,
     "metadata": {},
     "output_type": "execute_result"
    }
   ],
   "source": [
    "get_article_names([1024.0])"
   ]
  },
  {
   "cell_type": "code",
   "execution_count": 35,
   "metadata": {
    "tags": []
   },
   "outputs": [
    {
     "data": {
      "text/plain": [
       "['using deep learning to reconstruct high-resolution audio']"
      ]
     },
     "execution_count": 35,
     "metadata": {},
     "output_type": "execute_result"
    }
   ],
   "source": [
    "get_article_names(['1024.0'])"
   ]
  },
  {
   "cell_type": "code",
   "execution_count": 36,
   "metadata": {
    "tags": []
   },
   "outputs": [
    {
     "name": "stdout",
     "output_type": "stream",
     "text": [
      "If this is all you see, you passed all of our tests!  Nice job!\n"
     ]
    }
   ],
   "source": [
    "# Test your functions here - No need to change this code - just run this cell\n",
    "assert set(get_article_names(['1024.0', '1176.0', '1305.0', '1314.0', '1422.0', '1427.0'])) == set(['using deep learning to reconstruct high-resolution audio', 'build a python app on the streaming analytics service', 'gosales transactions for naive bayes model', 'healthcare python streaming application demo', 'use r dataframes & ibm watson natural language understanding', 'use xgboost, scikit-learn & ibm watson machine learning apis']), \"Oops! Your the get_article_names function doesn't work quite how we expect.\"\n",
    "assert set(get_article_names(['1320.0', '232.0', '844.0'])) == set(['housing (2015): united states demographic measures','self-service data preparation with ibm data refinery','use the cloudant-spark connector in python notebook']), \"Oops! Your the get_article_names function doesn't work quite how we expect.\"\n",
    "assert set(get_user_articles(20)[0]) == set(['1320.0', '232.0', '844.0'])\n",
    "assert set(get_user_articles(20)[1]) == set(['housing (2015): united states demographic measures', 'self-service data preparation with ibm data refinery','use the cloudant-spark connector in python notebook'])\n",
    "assert set(get_user_articles(2)[0]) == set(['1024.0', '1176.0', '1305.0', '1314.0', '1422.0', '1427.0'])\n",
    "assert set(get_user_articles(2)[1]) == set(['using deep learning to reconstruct high-resolution audio', 'build a python app on the streaming analytics service', 'gosales transactions for naive bayes model', 'healthcare python streaming application demo', 'use r dataframes & ibm watson natural language understanding', 'use xgboost, scikit-learn & ibm watson machine learning apis'])\n",
    "print(\"If this is all you see, you passed all of our tests!  Nice job!\")"
   ]
  },
  {
   "cell_type": "markdown",
   "metadata": {},
   "source": [
    "`4.` Now we are going to improve the consistency of the **user_user_recs** function from above.  \n",
    "\n",
    "* Instead of arbitrarily choosing when we obtain users who are all the same closeness to a given user - choose the users that have the most total article interactions before choosing those with fewer article interactions.\n",
    "\n",
    "\n",
    "* Instead of arbitrarily choosing articles from the user where the number of recommended articles starts below m and ends exceeding m, choose articles with the articles with the most total interactions before choosing those with fewer total interactions. This ranking should be  what would be obtained from the **top_articles** function you wrote earlier."
   ]
  },
  {
   "cell_type": "code",
   "execution_count": 37,
   "metadata": {
    "tags": []
   },
   "outputs": [
    {
     "data": {
      "text/plain": [
       "937"
      ]
     },
     "execution_count": 37,
     "metadata": {},
     "output_type": "execute_result"
    }
   ],
   "source": [
    "df.groupby(\"article_id\").size().loc[1429.0]"
   ]
  },
  {
   "cell_type": "code",
   "execution_count": 38,
   "metadata": {
    "tags": []
   },
   "outputs": [],
   "source": [
    "def get_top_sorted_users(user_id, user_item=user_item, df=df):\n",
    "    '''Given a user_id, get similar users sorted first by\n",
    "    similarity, then by number of interactions.\n",
    "\n",
    "    Args:\n",
    "        user_id - (int)\n",
    "        user_item - (pandas dataframe) matrix of users by articles: \n",
    "                1's when a user has interacted with an article, 0 otherwise\n",
    "        df - (pandas dataframe) df as defined at the top of the notebook \n",
    "            \n",
    "    Returns:\n",
    "        neighbors_df - (pandas dataframe) a dataframe with:\n",
    "                        neighbor_id - is a neighbor user_id\n",
    "                        similarity - measure of the similarity of each user to the provided user_id\n",
    "                        num_interactions - the number of articles viewed by the user - if a u\n",
    "    '''\n",
    "    neighbors_df = None\n",
    "    \n",
    "    if user_id in user_item.index.to_list():\n",
    "        # Compute similarity of each user to the provided user\n",
    "        neighbors_df = pd.DataFrame(np.dot(user_item[user_item.index == user_id], user_item.T)[0],\n",
    "                                    index=user_item.index,\n",
    "                                    columns=['similarity'])\n",
    "        # Reset index\n",
    "        neighbors_df['neighbor_id'] = neighbors_df.index.to_list()\n",
    "        neighbors_df = neighbors_df.reset_index(drop='user_id')\n",
    "\n",
    "        # Compute number of interactions\n",
    "        #neighbors_df['num_interactions'] = user_item.sum(axis=1)\n",
    "        user_interactions = df.groupby(['user_id'])['article_id'].count()\n",
    "        neighbors_df['num_interactions'] = neighbors_df.neighbor_id.apply(lambda x: user_interactions.loc[x].sum())\n",
    "\n",
    "        # Sort\n",
    "        neighbors_df = neighbors_df.sort_values(by=['similarity', 'num_interactions'],\n",
    "                                                ascending=[False, False]).iloc[1:,:]\n",
    "        neighbors_df.reset_index(inplace=True)\n",
    "\n",
    "    return neighbors_df # Return the dataframe specified in the doc_string\n",
    "\n",
    "#def user_user_recs_part2(user_id, m=10):\n",
    "def user_user_recs_optimized(user_id, m=10, user_item=user_item, df=df):\n",
    "    '''Loops through the users based on closeness to the input user_id.\n",
    "    For each user finds articles the user hasn't seen before and provides them as recs.\n",
    "    Does this until m recommendations are found.\n",
    "    \n",
    "    Notes:\n",
    "    - We choose the users that have the most total article interactions \n",
    "    before choosing those with fewer article interactions.\n",
    "    - We choose articles with the most total interactions \n",
    "    before choosing those with fewer total interactions.\n",
    "\n",
    "    Args:\n",
    "        user_id - (int) a user id\n",
    "        m - (int) the number of recommendations you want for the user\n",
    "    \n",
    "    Returns:\n",
    "        recs - (list) a list of recommendations for the user by article id\n",
    "        rec_names - (list) a list of recommendations for the user by article title\n",
    "    '''\n",
    "    similar_users_df = get_top_sorted_users(user_id, df=df, user_item=user_item)\n",
    "    this_article_ids, _ = get_user_articles(user_id, user_item=user_item, df=df) \n",
    "    \n",
    "    recs = dict()\n",
    "    article_ids_set = set()\n",
    "    recs['article_id'] = []\n",
    "    recs['article_name'] = []\n",
    "    recs['num_interactions'] = []   \n",
    "    for other_user_id in similar_users_df['neighbor_id']:\n",
    "        #print(other_user_id)\n",
    "        other_article_ids, other_article_names = get_user_articles(other_user_id,\n",
    "                                                                   user_item=user_item,\n",
    "                                                                   df=df)\n",
    "        for i, article_id in enumerate(other_article_ids):\n",
    "            if article_id not in this_article_ids and article_id not in article_ids_set:\n",
    "                article_ids_set.add(article_id)\n",
    "                recs['article_id'].append(article_id)\n",
    "                recs['article_name'].append(other_article_names[i])\n",
    "                # We need to cast the article_id...\n",
    "                recs['num_interactions'].append(df.groupby(\"article_id\").size().loc[float(article_id)])\n",
    "                if len(article_ids_set) >= m:\n",
    "                    break\n",
    "        if len(article_ids_set) >= m:\n",
    "            break        \n",
    "\n",
    "    # Pack results\n",
    "    recs = pd.DataFrame(recs)\n",
    "    recs = recs.sort_values(by=\"num_interactions\", ascending=False)\n",
    "    rec_ids = recs['article_id'].to_list()\n",
    "    rec_names = recs['article_name'].to_list()\n",
    "    #print(recs)\n",
    "    \n",
    "    return rec_ids, rec_names"
   ]
  },
  {
   "cell_type": "code",
   "execution_count": 39,
   "metadata": {
    "tags": []
   },
   "outputs": [
    {
     "name": "stdout",
     "output_type": "stream",
     "text": [
      "The top 10 recommendations for user 20 are the following article ids:\n",
      "['164.0', '109.0', '12.0', '125.0', '336.0', '362.0', '205.0', '465.0', '142.0', '302.0']\n",
      "\n",
      "The top 10 recommendations for user 20 are the following article names:\n",
      "['learn tensorflow and deep learning together and now!', 'tensorflow quick tips', 'timeseries data analysis of iot events by using jupyter notebook', 'statistics for hackers', 'challenges in deep learning', 'dsx: hybrid mode', \"a beginner's guide to variational methods\", 'introduction to neural networks, advantages and applications', 'neural networks for beginners: popular types and applications', 'accelerate your workflow with dsx']\n"
     ]
    }
   ],
   "source": [
    "# Quick spot check - don't change this code - just use it to test your functions\n",
    "#rec_ids, rec_names = user_user_recs_part2(20, 10)\n",
    "rec_ids, rec_names = user_user_recs_optimized(20, 10)\n",
    "print(\"The top 10 recommendations for user 20 are the following article ids:\")\n",
    "print(rec_ids)\n",
    "print()\n",
    "print(\"The top 10 recommendations for user 20 are the following article names:\")\n",
    "print(rec_names)"
   ]
  },
  {
   "cell_type": "markdown",
   "metadata": {},
   "source": [
    "`5.` Use your functions from above to correctly fill in the solutions to the dictionary below.  Then test your dictionary against the solution.  Provide the code you need to answer each following the comments below."
   ]
  },
  {
   "cell_type": "code",
   "execution_count": 40,
   "metadata": {
    "tags": []
   },
   "outputs": [],
   "source": [
    "### Tests with a dictionary of results\n",
    "# Find the user that is most similar to user 1\n",
    "user1_most_sim = get_top_sorted_users(1).neighbor_id.iloc[0]\n",
    "user1_most_sim\n",
    "# Find the 10th most similar user to user 131\n",
    "user131_10th_sim = get_top_sorted_users(131).neighbor_id.iloc[10-1]\n",
    "#user131_10th_sim"
   ]
  },
  {
   "cell_type": "code",
   "execution_count": 41,
   "metadata": {
    "tags": []
   },
   "outputs": [
    {
     "name": "stdout",
     "output_type": "stream",
     "text": [
      "This all looks good!  Nice job!\n"
     ]
    }
   ],
   "source": [
    "## Dictionary Test Here\n",
    "sol_5_dict = {\n",
    "    'The user that is most similar to user 1.': user1_most_sim, \n",
    "    'The user that is the 10th most similar to user 131': user131_10th_sim,\n",
    "}\n",
    "\n",
    "t.sol_5_test(sol_5_dict)"
   ]
  },
  {
   "cell_type": "markdown",
   "metadata": {},
   "source": [
    "`6.` If we were given a new user, which of the above functions would you be able to use to make recommendations?  Explain.  Can you think of a better way we might make recommendations?  Use the cell below to explain a better method for new users."
   ]
  },
  {
   "cell_type": "markdown",
   "metadata": {},
   "source": [
    "**Answer**: If new users have not selected any item yet, I would recommend them the most popuar articles (rank-based approach), i.e., the ones obtained with `get_top_articles()`; that situation is associated with the cold-start problem: we don't have user-specific information to make targeted recommendations."
   ]
  },
  {
   "cell_type": "markdown",
   "metadata": {},
   "source": [
    "`7.` Using your existing functions, provide the top 10 recommended articles you would provide for the a new user below.  You can test your function against our thoughts to make sure we are all on the same page with how we might make a recommendation."
   ]
  },
  {
   "cell_type": "code",
   "execution_count": 42,
   "metadata": {
    "tags": []
   },
   "outputs": [],
   "source": [
    "new_user = '0.0'\n",
    "\n",
    "# What would your recommendations be for this new user '0.0'?  As a new user, they have no observed articles.\n",
    "# Provide a list of the top 10 article ids you would give to \n",
    "new_user_recs = get_top_article_ids(n=10, df=df)\n",
    "new_user_recs = [str(idx) for idx in new_user_recs]"
   ]
  },
  {
   "cell_type": "code",
   "execution_count": 43,
   "metadata": {
    "tags": []
   },
   "outputs": [
    {
     "name": "stdout",
     "output_type": "stream",
     "text": [
      "That's right!  Nice job!\n"
     ]
    }
   ],
   "source": [
    "assert set(new_user_recs) == set(['1314.0','1429.0','1293.0','1427.0','1162.0','1364.0','1304.0','1170.0','1431.0','1330.0']), \"Oops!  It makes sense that in this case we would want to recommend the most popular articles, because we don't know anything about these users.\"\n",
    "\n",
    "print(\"That's right!  Nice job!\")"
   ]
  },
  {
   "cell_type": "markdown",
   "metadata": {},
   "source": [
    "### <a class=\"anchor\" id=\"Content-Recs\">Part IV: Content Based Recommendations (EXTRA - NOT REQUIRED)</a>\n",
    "\n",
    "Another method we might use to make recommendations is to perform a ranking of the highest ranked articles associated with some term.  You might consider content to be the **doc_body**, **doc_description**, or **doc_full_name**.  There isn't one way to create a content based recommendation, especially considering that each of these columns hold content related information.  \n",
    "\n",
    "`1.` Use the function body below to create a content based recommender.  Since there isn't one right answer for this recommendation tactic, no test functions are provided.  Feel free to change the function inputs if you decide you want to try a method that requires more input values.  The input values are currently set with one idea in mind that you may use to make content based recommendations.  One additional idea is that you might want to choose the most popular recommendations that meet your 'content criteria', but again, there is a lot of flexibility in how you might make these recommendations.\n",
    "\n",
    "### This part is NOT REQUIRED to pass this project.  However, you may choose to take this on as an extra way to show off your skills."
   ]
  },
  {
   "cell_type": "code",
   "execution_count": 44,
   "metadata": {
    "tags": []
   },
   "outputs": [],
   "source": [
    "# Create a text description of the articles combining 2 fields\n",
    "# The field doc_body is left out because it contains the full content, which should\n",
    "# be already summarized by the previous two\n",
    "df_content['text'] = df_content['doc_full_name'] + ' ' + df_content['doc_description']"
   ]
  },
  {
   "cell_type": "code",
   "execution_count": 45,
   "metadata": {
    "tags": []
   },
   "outputs": [
    {
     "data": {
      "text/html": [
       "<div>\n",
       "<style scoped>\n",
       "    .dataframe tbody tr th:only-of-type {\n",
       "        vertical-align: middle;\n",
       "    }\n",
       "\n",
       "    .dataframe tbody tr th {\n",
       "        vertical-align: top;\n",
       "    }\n",
       "\n",
       "    .dataframe thead th {\n",
       "        text-align: right;\n",
       "    }\n",
       "</style>\n",
       "<table border=\"1\" class=\"dataframe\">\n",
       "  <thead>\n",
       "    <tr style=\"text-align: right;\">\n",
       "      <th></th>\n",
       "      <th>article_id</th>\n",
       "      <th>text</th>\n",
       "    </tr>\n",
       "  </thead>\n",
       "  <tbody>\n",
       "    <tr>\n",
       "      <th>0</th>\n",
       "      <td>0</td>\n",
       "      <td>Detect Malfunctioning IoT Sensors with Streami...</td>\n",
       "    </tr>\n",
       "    <tr>\n",
       "      <th>1</th>\n",
       "      <td>1</td>\n",
       "      <td>Communicating data science: A guide to present...</td>\n",
       "    </tr>\n",
       "    <tr>\n",
       "      <th>2</th>\n",
       "      <td>2</td>\n",
       "      <td>This Week in Data Science (April 18, 2017) Her...</td>\n",
       "    </tr>\n",
       "    <tr>\n",
       "      <th>3</th>\n",
       "      <td>3</td>\n",
       "      <td>DataLayer Conference: Boost the performance of...</td>\n",
       "    </tr>\n",
       "    <tr>\n",
       "      <th>4</th>\n",
       "      <td>4</td>\n",
       "      <td>Analyze NY Restaurant data using Spark in DSX ...</td>\n",
       "    </tr>\n",
       "  </tbody>\n",
       "</table>\n",
       "</div>"
      ],
      "text/plain": [
       "   article_id                                               text\n",
       "0           0  Detect Malfunctioning IoT Sensors with Streami...\n",
       "1           1  Communicating data science: A guide to present...\n",
       "2           2  This Week in Data Science (April 18, 2017) Her...\n",
       "3           3  DataLayer Conference: Boost the performance of...\n",
       "4           4  Analyze NY Restaurant data using Spark in DSX ..."
      ]
     },
     "execution_count": 45,
     "metadata": {},
     "output_type": "execute_result"
    }
   ],
   "source": [
    "df_nlp = df_content[['article_id', 'text']]\n",
    "df_nlp.head()"
   ]
  },
  {
   "cell_type": "code",
   "execution_count": 46,
   "metadata": {
    "tags": []
   },
   "outputs": [
    {
     "data": {
      "text/plain": [
       "article_id    0\n",
       "text          3\n",
       "dtype: int64"
      ]
     },
     "execution_count": 46,
     "metadata": {},
     "output_type": "execute_result"
    }
   ],
   "source": [
    "# There are some articles with NaN texts...\n",
    "df_nlp.isna().sum()"
   ]
  },
  {
   "cell_type": "code",
   "execution_count": 47,
   "metadata": {
    "tags": []
   },
   "outputs": [],
   "source": [
    "# We tokenize the course_text colum values, BUT:\n",
    "# - stop words are not considered\n",
    "# - only nouns are taken; for that, we need to get the POS (part-of-speech) tags\n",
    "def tokenize_text(text, keep_only_selected=True):\n",
    "    \"\"\"Tokenize a text string.\n",
    "    Stop words are removed.\n",
    "    If specified, only nouns are taken.\n",
    "    \n",
    "    Args:\n",
    "        text - (str) Article title + description\n",
    "        keep_only_selected - (bool) Whether to take only selected POS tokens or not\n",
    "            (default: True)\n",
    "    Returns:\n",
    "        word_tokens: - (list[str]) List of word tokens\n",
    "    \"\"\"\n",
    "    word_tokens = ['NaN']\n",
    "    if isinstance(text, str):\n",
    "        # Remove punctuation\n",
    "        translator = str.maketrans(\"\", \"\", string.punctuation)\n",
    "        text = text.translate(translator)\n",
    "        # Lower case\n",
    "        text = text.lower()\n",
    "        # Tokenize\n",
    "        word_tokens = word_tokenize(text)\n",
    "        # Remove English stop words and numbers\n",
    "        stop_words = set(stopwords.words('english'))\n",
    "        word_tokens = [w for w in word_tokens\n",
    "                       if (not w.lower() in stop_words) and (not w.isnumeric())]\n",
    "        # Only keep selected POS \n",
    "        if keep_only_selected:\n",
    "            # We can get a list of all POS tags with nltk.help.upenn_tagset()\n",
    "            filter_list = ['WDT', 'WP', 'WRB', 'FW', 'IN', 'JJR', 'JJS',\n",
    "                           'MD', 'PDT', 'POS', 'PRP', 'RB', 'RBR', 'RBS',\n",
    "                           'RP']\n",
    "            tags = nltk.pos_tag(word_tokens)\n",
    "            word_tokens = [word for word, pos in tags if pos not in filter_list]\n",
    "\n",
    "    return word_tokens"
   ]
  },
  {
   "cell_type": "code",
   "execution_count": 48,
   "metadata": {
    "tags": []
   },
   "outputs": [],
   "source": [
    "# Run tokenization on the colum\n",
    "# We get a list of lists: for each article a list of words/tokens\n",
    "tokenized_article_texts = [tokenize_text(df_nlp.iloc[i,:]['text']) for i in range(df_nlp.shape[0])]"
   ]
  },
  {
   "cell_type": "code",
   "execution_count": 49,
   "metadata": {
    "tags": []
   },
   "outputs": [
    {
     "data": {
      "text/plain": [
       "[['detect',\n",
       "  'malfunctioning',\n",
       "  'iot',\n",
       "  'sensors',\n",
       "  'streaming',\n",
       "  'analytics',\n",
       "  'detect',\n",
       "  'bad',\n",
       "  'readings',\n",
       "  'real',\n",
       "  'time',\n",
       "  'using',\n",
       "  'python',\n",
       "  'streaming',\n",
       "  'analytics']]"
      ]
     },
     "execution_count": 49,
     "metadata": {},
     "output_type": "execute_result"
    }
   ],
   "source": [
    "tokenized_article_texts[:1]"
   ]
  },
  {
   "cell_type": "code",
   "execution_count": 50,
   "metadata": {
    "tags": []
   },
   "outputs": [],
   "source": [
    "# Create a dictionary\n",
    "tokens_dict = gensim.corpora.Dictionary(tokenized_article_texts)"
   ]
  },
  {
   "cell_type": "code",
   "execution_count": 51,
   "metadata": {
    "tags": []
   },
   "outputs": [],
   "source": [
    "# Vocalubary: token2id dictionary\n",
    "#print(tokens_dict.token2id)"
   ]
  },
  {
   "cell_type": "code",
   "execution_count": 52,
   "metadata": {
    "tags": []
   },
   "outputs": [],
   "source": [
    "# Create Bags of Words (BoWs) for each tokenized article text\n",
    "articles_bow = [tokens_dict.doc2bow(article) for article in tokenized_article_texts]"
   ]
  },
  {
   "cell_type": "code",
   "execution_count": 53,
   "metadata": {
    "tags": []
   },
   "outputs": [
    {
     "data": {
      "text/plain": [
       "[[(0, 2),\n",
       "  (1, 1),\n",
       "  (2, 2),\n",
       "  (3, 1),\n",
       "  (4, 1),\n",
       "  (5, 1),\n",
       "  (6, 1),\n",
       "  (7, 1),\n",
       "  (8, 1),\n",
       "  (9, 2),\n",
       "  (10, 1),\n",
       "  (11, 1)]]"
      ]
     },
     "execution_count": 53,
     "metadata": {},
     "output_type": "execute_result"
    }
   ],
   "source": [
    "articles_bow[:1]"
   ]
  },
  {
   "cell_type": "code",
   "execution_count": 54,
   "metadata": {
    "tags": []
   },
   "outputs": [],
   "source": [
    "# Create a dataframe which contains the BoWs of each article\n",
    "# flattened along the rows\n",
    "ids = [[df_nlp.iloc[i,:]['article_id']]*len(articles_bow[i]) for i in range(df_nlp.shape[0])]\n",
    "tokens = [[tokens_dict.get(articles_bow[i][j][0]) for j in range(len(articles_bow[i]))] for i in range(len(articles_bow))]\n",
    "bow_values = [[articles_bow[i][j][1] for j in range(len(articles_bow[i]))] for i in range(len(articles_bow))]"
   ]
  },
  {
   "cell_type": "code",
   "execution_count": 55,
   "metadata": {
    "tags": []
   },
   "outputs": [],
   "source": [
    "# Flatten the lists of lists\n",
    "ids = list(itertools.chain(*ids))\n",
    "tokens = list(itertools.chain(*tokens))\n",
    "bow_values = list(itertools.chain(*bow_values))"
   ]
  },
  {
   "cell_type": "code",
   "execution_count": 56,
   "metadata": {
    "tags": []
   },
   "outputs": [],
   "source": [
    "# Dictionary for the dataframe\n",
    "bow_dicts = {\"article_id\": ids,\n",
    "             \"token\": tokens,\n",
    "             \"bow\": bow_values}"
   ]
  },
  {
   "cell_type": "code",
   "execution_count": 57,
   "metadata": {
    "tags": []
   },
   "outputs": [],
   "source": [
    "article_text_bows_df = pd.DataFrame(bow_dicts)"
   ]
  },
  {
   "cell_type": "code",
   "execution_count": 58,
   "metadata": {
    "tags": []
   },
   "outputs": [
    {
     "data": {
      "text/html": [
       "<div>\n",
       "<style scoped>\n",
       "    .dataframe tbody tr th:only-of-type {\n",
       "        vertical-align: middle;\n",
       "    }\n",
       "\n",
       "    .dataframe tbody tr th {\n",
       "        vertical-align: top;\n",
       "    }\n",
       "\n",
       "    .dataframe thead th {\n",
       "        text-align: right;\n",
       "    }\n",
       "</style>\n",
       "<table border=\"1\" class=\"dataframe\">\n",
       "  <thead>\n",
       "    <tr style=\"text-align: right;\">\n",
       "      <th></th>\n",
       "      <th>article_id</th>\n",
       "      <th>token</th>\n",
       "      <th>bow</th>\n",
       "    </tr>\n",
       "  </thead>\n",
       "  <tbody>\n",
       "    <tr>\n",
       "      <th>0</th>\n",
       "      <td>0</td>\n",
       "      <td>analytics</td>\n",
       "      <td>2</td>\n",
       "    </tr>\n",
       "    <tr>\n",
       "      <th>1</th>\n",
       "      <td>0</td>\n",
       "      <td>bad</td>\n",
       "      <td>1</td>\n",
       "    </tr>\n",
       "    <tr>\n",
       "      <th>2</th>\n",
       "      <td>0</td>\n",
       "      <td>detect</td>\n",
       "      <td>2</td>\n",
       "    </tr>\n",
       "    <tr>\n",
       "      <th>3</th>\n",
       "      <td>0</td>\n",
       "      <td>iot</td>\n",
       "      <td>1</td>\n",
       "    </tr>\n",
       "    <tr>\n",
       "      <th>4</th>\n",
       "      <td>0</td>\n",
       "      <td>malfunctioning</td>\n",
       "      <td>1</td>\n",
       "    </tr>\n",
       "    <tr>\n",
       "      <th>...</th>\n",
       "      <td>...</td>\n",
       "      <td>...</td>\n",
       "      <td>...</td>\n",
       "    </tr>\n",
       "    <tr>\n",
       "      <th>18204</th>\n",
       "      <td>1050</td>\n",
       "      <td>entire</td>\n",
       "      <td>1</td>\n",
       "    </tr>\n",
       "    <tr>\n",
       "      <th>18205</th>\n",
       "      <td>1050</td>\n",
       "      <td>painful</td>\n",
       "      <td>1</td>\n",
       "    </tr>\n",
       "    <tr>\n",
       "      <th>18206</th>\n",
       "      <td>1050</td>\n",
       "      <td>great…</td>\n",
       "      <td>1</td>\n",
       "    </tr>\n",
       "    <tr>\n",
       "      <th>18207</th>\n",
       "      <td>1050</td>\n",
       "      <td>ides</td>\n",
       "      <td>2</td>\n",
       "    </tr>\n",
       "    <tr>\n",
       "      <th>18208</th>\n",
       "      <td>1050</td>\n",
       "      <td>kernels</td>\n",
       "      <td>1</td>\n",
       "    </tr>\n",
       "  </tbody>\n",
       "</table>\n",
       "<p>18209 rows × 3 columns</p>\n",
       "</div>"
      ],
      "text/plain": [
       "       article_id           token  bow\n",
       "0               0       analytics    2\n",
       "1               0             bad    1\n",
       "2               0          detect    2\n",
       "3               0             iot    1\n",
       "4               0  malfunctioning    1\n",
       "...           ...             ...  ...\n",
       "18204        1050          entire    1\n",
       "18205        1050         painful    1\n",
       "18206        1050          great…    1\n",
       "18207        1050            ides    2\n",
       "18208        1050         kernels    1\n",
       "\n",
       "[18209 rows x 3 columns]"
      ]
     },
     "execution_count": 58,
     "metadata": {},
     "output_type": "execute_result"
    }
   ],
   "source": [
    "article_text_bows_df"
   ]
  },
  {
   "cell_type": "markdown",
   "metadata": {},
   "source": [
    "#### Pack Everything into Functions for Easier Transfer to Production"
   ]
  },
  {
   "cell_type": "code",
   "execution_count": 59,
   "metadata": {
    "tags": []
   },
   "outputs": [],
   "source": [
    "def create_article_bows_df(df=df_content):\n",
    "    \"\"\"Given the dataframe with the article descriptions,\n",
    "    create a dataframe which contains the tokens of each article\n",
    "    and their counts in long format.\n",
    "    \n",
    "    Basically, each article is represented with a Bag of Words (BoW):\n",
    "    a descriptor related to the content. Instead of saving those descriptors\n",
    "    in a sparse matrix of size vocab_size x vocab_size, a dense long matrix\n",
    "    is defined to save memory. Also, this enables to extend the vocabulary\n",
    "    more easily if we introduce a new article with a new token!\n",
    "    \n",
    "    Args:\n",
    "        df - (pandas.Dataframe) dataframe with course description texts\n",
    "    \n",
    "    Returns:\n",
    "        article_text_bows_df - (pandas.Dataframe) dataframe with course BoWs\n",
    "    \"\"\"\n",
    "    # Create text field\n",
    "    df_nlp = df.copy()\n",
    "    df_nlp['text'] = df_nlp['doc_full_name'] + ' ' + df_nlp['doc_description']\n",
    "    df_nlp = df_nlp[['article_id', 'text']]\n",
    "    \n",
    "    # Tokenize texts\n",
    "    tokenized_article_texts = [tokenize_text(df_nlp.iloc[i,:]['text']) for i in range(df_nlp.shape[0])]\n",
    "    \n",
    "    # Create dictionary\n",
    "    tokens_dict = gensim.corpora.Dictionary(tokenized_article_texts)\n",
    "    \n",
    "    # Create Bags of Words (BoWs) for each tokenized article text\n",
    "    articles_bow = [tokens_dict.doc2bow(article) for article in tokenized_article_texts]\n",
    "    \n",
    "    # Create a dataframe which contains the BoWs of each article\n",
    "    # flattened along the rows\n",
    "    ids = [[df_nlp.iloc[i,:]['article_id']]*len(articles_bow[i]) for i in range(df_nlp.shape[0])]\n",
    "    tokens = [[tokens_dict.get(articles_bow[i][j][0]) for j in range(len(articles_bow[i]))] for i in range(len(articles_bow))]\n",
    "    bow_values = [[articles_bow[i][j][1] for j in range(len(articles_bow[i]))] for i in range(len(articles_bow))]\n",
    "    \n",
    "    # Flatten the lists of lists\n",
    "    ids = list(itertools.chain(*ids))\n",
    "    tokens = list(itertools.chain(*tokens))\n",
    "    bow_values = list(itertools.chain(*bow_values))\n",
    "    \n",
    "    # Dictionary for the dataframe\n",
    "    bow_dicts = {\"article_id\": ids,\n",
    "                 \"token\": tokens,\n",
    "                 \"bow\": bow_values}\n",
    "    # Assemble dataframe\n",
    "    article_text_bows_df = pd.DataFrame(bow_dicts)\n",
    "    \n",
    "    return article_text_bows_df"
   ]
  },
  {
   "cell_type": "code",
   "execution_count": 60,
   "metadata": {
    "tags": []
   },
   "outputs": [],
   "source": [
    "article_text_bows_df = create_article_bows_df(df=df_content)"
   ]
  },
  {
   "cell_type": "code",
   "execution_count": 61,
   "metadata": {
    "tags": []
   },
   "outputs": [
    {
     "data": {
      "text/html": [
       "<div>\n",
       "<style scoped>\n",
       "    .dataframe tbody tr th:only-of-type {\n",
       "        vertical-align: middle;\n",
       "    }\n",
       "\n",
       "    .dataframe tbody tr th {\n",
       "        vertical-align: top;\n",
       "    }\n",
       "\n",
       "    .dataframe thead th {\n",
       "        text-align: right;\n",
       "    }\n",
       "</style>\n",
       "<table border=\"1\" class=\"dataframe\">\n",
       "  <thead>\n",
       "    <tr style=\"text-align: right;\">\n",
       "      <th></th>\n",
       "      <th>article_id</th>\n",
       "      <th>token</th>\n",
       "      <th>bow</th>\n",
       "    </tr>\n",
       "  </thead>\n",
       "  <tbody>\n",
       "    <tr>\n",
       "      <th>0</th>\n",
       "      <td>0</td>\n",
       "      <td>analytics</td>\n",
       "      <td>2</td>\n",
       "    </tr>\n",
       "    <tr>\n",
       "      <th>1</th>\n",
       "      <td>0</td>\n",
       "      <td>bad</td>\n",
       "      <td>1</td>\n",
       "    </tr>\n",
       "    <tr>\n",
       "      <th>2</th>\n",
       "      <td>0</td>\n",
       "      <td>detect</td>\n",
       "      <td>2</td>\n",
       "    </tr>\n",
       "    <tr>\n",
       "      <th>3</th>\n",
       "      <td>0</td>\n",
       "      <td>iot</td>\n",
       "      <td>1</td>\n",
       "    </tr>\n",
       "    <tr>\n",
       "      <th>4</th>\n",
       "      <td>0</td>\n",
       "      <td>malfunctioning</td>\n",
       "      <td>1</td>\n",
       "    </tr>\n",
       "    <tr>\n",
       "      <th>...</th>\n",
       "      <td>...</td>\n",
       "      <td>...</td>\n",
       "      <td>...</td>\n",
       "    </tr>\n",
       "    <tr>\n",
       "      <th>18204</th>\n",
       "      <td>1050</td>\n",
       "      <td>entire</td>\n",
       "      <td>1</td>\n",
       "    </tr>\n",
       "    <tr>\n",
       "      <th>18205</th>\n",
       "      <td>1050</td>\n",
       "      <td>painful</td>\n",
       "      <td>1</td>\n",
       "    </tr>\n",
       "    <tr>\n",
       "      <th>18206</th>\n",
       "      <td>1050</td>\n",
       "      <td>great…</td>\n",
       "      <td>1</td>\n",
       "    </tr>\n",
       "    <tr>\n",
       "      <th>18207</th>\n",
       "      <td>1050</td>\n",
       "      <td>ides</td>\n",
       "      <td>2</td>\n",
       "    </tr>\n",
       "    <tr>\n",
       "      <th>18208</th>\n",
       "      <td>1050</td>\n",
       "      <td>kernels</td>\n",
       "      <td>1</td>\n",
       "    </tr>\n",
       "  </tbody>\n",
       "</table>\n",
       "<p>18209 rows × 3 columns</p>\n",
       "</div>"
      ],
      "text/plain": [
       "       article_id           token  bow\n",
       "0               0       analytics    2\n",
       "1               0             bad    1\n",
       "2               0          detect    2\n",
       "3               0             iot    1\n",
       "4               0  malfunctioning    1\n",
       "...           ...             ...  ...\n",
       "18204        1050          entire    1\n",
       "18205        1050         painful    1\n",
       "18206        1050          great…    1\n",
       "18207        1050            ides    2\n",
       "18208        1050         kernels    1\n",
       "\n",
       "[18209 rows x 3 columns]"
      ]
     },
     "execution_count": 61,
     "metadata": {},
     "output_type": "execute_result"
    }
   ],
   "source": [
    "article_text_bows_df"
   ]
  },
  {
   "cell_type": "code",
   "execution_count": 62,
   "metadata": {
    "tags": []
   },
   "outputs": [],
   "source": [
    "# Save dataframe\n",
    "article_text_bows_df.to_csv('data/article_bows.csv', sep=',', header=True, index=False)\n",
    "del article_text_bows_df\n",
    "article_text_bows_df = pd.read_csv('data/article_bows.csv')"
   ]
  },
  {
   "cell_type": "code",
   "execution_count": 63,
   "metadata": {
    "tags": []
   },
   "outputs": [],
   "source": [
    "def pivot_two_bows(basedoc, comparedoc):\n",
    "    \"\"\"Given two BOWs of different documents/article texts,\n",
    "    re-arrange them horizontally and create a dataframe.\n",
    "    The result is a sparse/wide dataframe with two entries (one for\n",
    "    each article) and BoW values as columns.\n",
    "    \n",
    "    Args:\n",
    "        basedoc - (pd.DataFrame) Base BoW\n",
    "        comparedoc - (pd.DataFrame) The other BoW\n",
    "            \n",
    "    Returns:\n",
    "        compare_article_bows_df - (pd.DataFrame) Composed data frame\n",
    "            which contains both inputs horizontally arranged \n",
    "    \"\"\"\n",
    "    base = basedoc.copy()\n",
    "    base['type'] = 'base'\n",
    "    compare = comparedoc.copy()\n",
    "    compare['type'] = 'compare'\n",
    "    \n",
    "    # Append the two token sets vertically\n",
    "    #join = base.append(compare)\n",
    "    join = pd.concat([base, compare], axis=0)\n",
    "    #print(join)\n",
    "    \n",
    "    # Pivot the two joined courses\n",
    "    compare_article_bows_df = join.pivot(index=['article_id', 'type'], columns='token').fillna(0).reset_index(level=[0, 1])\n",
    "    \n",
    "    # Assign columns\n",
    "    compare_article_bows_df.columns = ['article_id', 'type'] + [t[1] for t in compare_article_bows_df.columns][2:]\n",
    "    \n",
    "    return compare_article_bows_df"
   ]
  },
  {
   "cell_type": "code",
   "execution_count": 64,
   "metadata": {
    "tags": []
   },
   "outputs": [],
   "source": [
    "# Test with two articles\n",
    "article1 = article_text_bows_df[article_text_bows_df['article_id'] == 1]\n",
    "article2 = article_text_bows_df[article_text_bows_df['article_id'] == 10]"
   ]
  },
  {
   "cell_type": "code",
   "execution_count": 65,
   "metadata": {
    "tags": []
   },
   "outputs": [
    {
     "data": {
      "text/html": [
       "<div>\n",
       "<style scoped>\n",
       "    .dataframe tbody tr th:only-of-type {\n",
       "        vertical-align: middle;\n",
       "    }\n",
       "\n",
       "    .dataframe tbody tr th {\n",
       "        vertical-align: top;\n",
       "    }\n",
       "\n",
       "    .dataframe thead th {\n",
       "        text-align: right;\n",
       "    }\n",
       "</style>\n",
       "<table border=\"1\" class=\"dataframe\">\n",
       "  <thead>\n",
       "    <tr style=\"text-align: right;\">\n",
       "      <th></th>\n",
       "      <th>article_id</th>\n",
       "      <th>type</th>\n",
       "      <th>analysis</th>\n",
       "      <th>analysts</th>\n",
       "      <th>app</th>\n",
       "      <th>apples</th>\n",
       "      <th>apps</th>\n",
       "      <th>business</th>\n",
       "      <th>challenge</th>\n",
       "      <th>cloud</th>\n",
       "      <th>...</th>\n",
       "      <th>science</th>\n",
       "      <th>scientists</th>\n",
       "      <th>see</th>\n",
       "      <th>swift</th>\n",
       "      <th>sync</th>\n",
       "      <th>take</th>\n",
       "      <th>taught</th>\n",
       "      <th>tracker</th>\n",
       "      <th>trees</th>\n",
       "      <th>work</th>\n",
       "    </tr>\n",
       "  </thead>\n",
       "  <tbody>\n",
       "    <tr>\n",
       "      <th>0</th>\n",
       "      <td>1</td>\n",
       "      <td>base</td>\n",
       "      <td>1.0</td>\n",
       "      <td>1.0</td>\n",
       "      <td>0.0</td>\n",
       "      <td>0.0</td>\n",
       "      <td>0.0</td>\n",
       "      <td>1.0</td>\n",
       "      <td>1.0</td>\n",
       "      <td>0.0</td>\n",
       "      <td>...</td>\n",
       "      <td>1.0</td>\n",
       "      <td>1.0</td>\n",
       "      <td>2.0</td>\n",
       "      <td>0.0</td>\n",
       "      <td>0.0</td>\n",
       "      <td>0.0</td>\n",
       "      <td>0.0</td>\n",
       "      <td>0.0</td>\n",
       "      <td>1.0</td>\n",
       "      <td>1.0</td>\n",
       "    </tr>\n",
       "    <tr>\n",
       "      <th>1</th>\n",
       "      <td>10</td>\n",
       "      <td>compare</td>\n",
       "      <td>0.0</td>\n",
       "      <td>0.0</td>\n",
       "      <td>1.0</td>\n",
       "      <td>1.0</td>\n",
       "      <td>1.0</td>\n",
       "      <td>0.0</td>\n",
       "      <td>0.0</td>\n",
       "      <td>1.0</td>\n",
       "      <td>...</td>\n",
       "      <td>0.0</td>\n",
       "      <td>0.0</td>\n",
       "      <td>0.0</td>\n",
       "      <td>1.0</td>\n",
       "      <td>2.0</td>\n",
       "      <td>1.0</td>\n",
       "      <td>1.0</td>\n",
       "      <td>1.0</td>\n",
       "      <td>0.0</td>\n",
       "      <td>0.0</td>\n",
       "    </tr>\n",
       "  </tbody>\n",
       "</table>\n",
       "<p>2 rows × 41 columns</p>\n",
       "</div>"
      ],
      "text/plain": [
       "   article_id     type  analysis  analysts  app  apples  apps  business   \n",
       "0           1     base       1.0       1.0  0.0     0.0   0.0       1.0  \\\n",
       "1          10  compare       0.0       0.0  1.0     1.0   1.0       0.0   \n",
       "\n",
       "   challenge  cloud  ...  science  scientists  see  swift  sync  take  taught   \n",
       "0        1.0    0.0  ...      1.0         1.0  2.0    0.0   0.0   0.0     0.0  \\\n",
       "1        0.0    1.0  ...      0.0         0.0  0.0    1.0   2.0   1.0     1.0   \n",
       "\n",
       "   tracker  trees  work  \n",
       "0      0.0    1.0   1.0  \n",
       "1      1.0    0.0   0.0  \n",
       "\n",
       "[2 rows x 41 columns]"
      ]
     },
     "execution_count": 65,
     "metadata": {},
     "output_type": "execute_result"
    }
   ],
   "source": [
    "bow_vectors = pivot_two_bows(article1, article2)\n",
    "bow_vectors"
   ]
  },
  {
   "cell_type": "code",
   "execution_count": 66,
   "metadata": {
    "tags": []
   },
   "outputs": [
    {
     "data": {
      "text/plain": [
       "0.07302967433402219"
      ]
     },
     "execution_count": 66,
     "metadata": {},
     "output_type": "execute_result"
    }
   ],
   "source": [
    "# Compute cosine similarity\n",
    "similarity = 1 - cosine(bow_vectors.iloc[0, 2:], bow_vectors.iloc[1, 2:])\n",
    "similarity"
   ]
  },
  {
   "cell_type": "code",
   "execution_count": 67,
   "metadata": {
    "tags": []
   },
   "outputs": [],
   "source": [
    "def find_similar_articles(article_id, df=df_content, df_bows=article_text_bows_df):\n",
    "    '''Computes the similarity of every pair of users based on the dot product.\n",
    "    Returns are ordered.\n",
    "    \n",
    "    Args:\n",
    "        article_id - (float) an article id form df\n",
    "        df - (pandas dataframe) matrix with information about the articles\n",
    "        df_bows - (pandas dataframe) matrix with BoWs of the articles        \n",
    "    \n",
    "    Returns:\n",
    "        similarity_df - (pandas dataframe) an ordered dataframe which contains\n",
    "            similar articles to the reference article_id\n",
    "    '''\n",
    "    similarity_df = None\n",
    "    \n",
    "    if article_id in df_content.article_id.to_list():\n",
    "        similarity_vector = []\n",
    "        article_vector = []\n",
    "        article1 = article_text_bows_df[article_text_bows_df['article_id'] == article_id]\n",
    "        for article in df_bows['article_id'].unique():\n",
    "            if article != article_id:\n",
    "                article2 = article_text_bows_df[article_text_bows_df['article_id'] == article]\n",
    "                try:\n",
    "                    bow_vectors = pivot_two_bows(article1, article2)\n",
    "                    similarity = 1 - cosine(bow_vectors.iloc[0, 2:], bow_vectors.iloc[1, 2:])\n",
    "                    similarity_vector.append(similarity)\n",
    "                    article_vector.append(article)\n",
    "                except:\n",
    "                    # FIXME: for some reason, I sometimes get an error - to be solved...\n",
    "                    print(f\"WARNING: Article {article} yiels a BoW incompatible with the reference article {article_id}?\")\n",
    "                    continue\n",
    "        \n",
    "        # Assemble dataframe\n",
    "        similarity_df = (pd.DataFrame({'article_id': article_vector,\n",
    "                                       'similarity': similarity_vector})\n",
    "                         .sort_values(by=\"similarity\", ascending=False).reset_index(drop=True)\n",
    "                        )\n",
    "        # Get article titles\n",
    "        similarity_df = pd.merge(left=similarity_df,\n",
    "                                 right=df,\n",
    "                                 how='inner',\n",
    "                                 left_on='article_id',\n",
    "                                 right_on='article_id')[['article_id', 'similarity', 'doc_full_name']]\n",
    "\n",
    "    return similarity_df"
   ]
  },
  {
   "cell_type": "code",
   "execution_count": 68,
   "metadata": {
    "tags": []
   },
   "outputs": [
    {
     "name": "stdout",
     "output_type": "stream",
     "text": [
      "WARNING: Article 50 yiels a BoW incompatible with the reference article 1.0?\n",
      "WARNING: Article 221 yiels a BoW incompatible with the reference article 1.0?\n",
      "WARNING: Article 232 yiels a BoW incompatible with the reference article 1.0?\n",
      "WARNING: Article 398 yiels a BoW incompatible with the reference article 1.0?\n",
      "WARNING: Article 577 yiels a BoW incompatible with the reference article 1.0?\n"
     ]
    }
   ],
   "source": [
    "similarity_df = find_similar_articles(article_id=1.0, df=df_content, df_bows=article_text_bows_df)"
   ]
  },
  {
   "cell_type": "code",
   "execution_count": 69,
   "metadata": {
    "tags": []
   },
   "outputs": [
    {
     "data": {
      "text/html": [
       "<div>\n",
       "<style scoped>\n",
       "    .dataframe tbody tr th:only-of-type {\n",
       "        vertical-align: middle;\n",
       "    }\n",
       "\n",
       "    .dataframe tbody tr th {\n",
       "        vertical-align: top;\n",
       "    }\n",
       "\n",
       "    .dataframe thead th {\n",
       "        text-align: right;\n",
       "    }\n",
       "</style>\n",
       "<table border=\"1\" class=\"dataframe\">\n",
       "  <thead>\n",
       "    <tr style=\"text-align: right;\">\n",
       "      <th></th>\n",
       "      <th>article_id</th>\n",
       "      <th>similarity</th>\n",
       "      <th>doc_full_name</th>\n",
       "    </tr>\n",
       "  </thead>\n",
       "  <tbody>\n",
       "    <tr>\n",
       "      <th>0</th>\n",
       "      <td>8</td>\n",
       "      <td>0.379536</td>\n",
       "      <td>Data Science Bowl 2017</td>\n",
       "    </tr>\n",
       "    <tr>\n",
       "      <th>1</th>\n",
       "      <td>244</td>\n",
       "      <td>0.365148</td>\n",
       "      <td>Notebooks: A power tool for data scientists</td>\n",
       "    </tr>\n",
       "    <tr>\n",
       "      <th>2</th>\n",
       "      <td>720</td>\n",
       "      <td>0.363887</td>\n",
       "      <td>Data Visualization Playbook: Telling the Data ...</td>\n",
       "    </tr>\n",
       "    <tr>\n",
       "      <th>3</th>\n",
       "      <td>569</td>\n",
       "      <td>0.351364</td>\n",
       "      <td>How can data scientists collaborate to build b...</td>\n",
       "    </tr>\n",
       "    <tr>\n",
       "      <th>4</th>\n",
       "      <td>444</td>\n",
       "      <td>0.339467</td>\n",
       "      <td>Declarative Machine Learning</td>\n",
       "    </tr>\n",
       "  </tbody>\n",
       "</table>\n",
       "</div>"
      ],
      "text/plain": [
       "   article_id  similarity                                      doc_full_name\n",
       "0           8    0.379536                             Data Science Bowl 2017\n",
       "1         244    0.365148        Notebooks: A power tool for data scientists\n",
       "2         720    0.363887  Data Visualization Playbook: Telling the Data ...\n",
       "3         569    0.351364  How can data scientists collaborate to build b...\n",
       "4         444    0.339467                       Declarative Machine Learning"
      ]
     },
     "execution_count": 69,
     "metadata": {},
     "output_type": "execute_result"
    }
   ],
   "source": [
    "similarity_df.head()"
   ]
  },
  {
   "cell_type": "code",
   "execution_count": 70,
   "metadata": {
    "tags": []
   },
   "outputs": [],
   "source": [
    "def make_content_recs():\n",
    "    '''\n",
    "    INPUT:\n",
    "    \n",
    "    OUTPUT:\n",
    "    \n",
    "    '''\n",
    "    # See my implementation above\n",
    "    pass"
   ]
  },
  {
   "cell_type": "markdown",
   "metadata": {},
   "source": [
    "`2.` Now that you have put together your content-based recommendation system, use the cell below to write a summary explaining how your content based recommender works.  Do you see any possible improvements that could be made to your function?  Is there anything novel about your content based recommender?\n",
    "\n",
    "### This part is NOT REQUIRED to pass this project.  However, you may choose to take this on as an extra way to show off your skills."
   ]
  },
  {
   "cell_type": "markdown",
   "metadata": {},
   "source": [
    "**Answer:** The content-based system I have implemented extracts article features in form of tokens, i.e., I perform NLP to characterize each article with its bag-of-words (BoW). Then, we are able to find article similarities by comparing the BoWs."
   ]
  },
  {
   "cell_type": "markdown",
   "metadata": {},
   "source": [
    "`3.` Use your content-recommendation system to make recommendations for the below scenarios based on the comments.  Again no tests are provided here, because there isn't one right answer that could be used to find these content based recommendations.\n",
    "\n",
    "### This part is NOT REQUIRED to pass this project.  However, you may choose to take this on as an extra way to show off your skills."
   ]
  },
  {
   "cell_type": "code",
   "execution_count": 71,
   "metadata": {
    "tags": []
   },
   "outputs": [
    {
     "name": "stdout",
     "output_type": "stream",
     "text": [
      "-> Recommendations for a brand new user: top articles:\n",
      "['use deep learning for image classification', 'insights from new york car accident reports', 'visualize car data with brunel', 'use xgboost, scikit-learn & ibm watson machine learning apis', 'predicting churn with the spss random tree algorithm', 'healthcare python streaming application demo', 'finding optimal locations of new store using decision optimization', 'apache spark lab, part 1: basic concepts', 'analyze energy consumption in buildings', 'gosales transactions for logistic regression model']\n",
      "\n",
      "-> Recommendations for a user who has interacted with an article:\n",
      "Since the interacted article is not in the database, we could recommend the top articles above.\n"
     ]
    }
   ],
   "source": [
    "# make recommendations for a brand new user\n",
    "print(\"-> Recommendations for a brand new user: top articles:\")\n",
    "print(get_top_articles(n=10, df=df))\n",
    "\n",
    "# make a recommendations for a user who only has interacted with article id '1427.0'\n",
    "print(\"\\n-> Recommendations for a user who has interacted with an article:\")\n",
    "similarity_df = find_similar_articles(article_id=1427.0, df=df_content, df_bows=article_text_bows_df)\n",
    "if similarity_df:\n",
    "    print(similarity_df.head(10))\n",
    "else:\n",
    "    print(\"Since the interacted article is not in the database, we could recommend the top articles above.\")"
   ]
  },
  {
   "cell_type": "markdown",
   "metadata": {},
   "source": [
    "### <a class=\"anchor\" id=\"Matrix-Fact\">Part V: Matrix Factorization</a>\n",
    "\n",
    "In this part of the notebook, you will build use matrix factorization to make article recommendations to the users on the IBM Watson Studio platform.\n",
    "\n",
    "`1.` You should have already created a **user_item** matrix above in **question 1** of **Part III** above.  This first question here will just require that you run the cells to get things set up for the rest of **Part V** of the notebook. "
   ]
  },
  {
   "cell_type": "code",
   "execution_count": 72,
   "metadata": {
    "tags": []
   },
   "outputs": [],
   "source": [
    "# Load the matrix here\n",
    "user_item_matrix = pd.read_pickle('data/user_item_matrix.p')"
   ]
  },
  {
   "cell_type": "code",
   "execution_count": 73,
   "metadata": {
    "tags": []
   },
   "outputs": [
    {
     "data": {
      "text/html": [
       "<div>\n",
       "<style scoped>\n",
       "    .dataframe tbody tr th:only-of-type {\n",
       "        vertical-align: middle;\n",
       "    }\n",
       "\n",
       "    .dataframe tbody tr th {\n",
       "        vertical-align: top;\n",
       "    }\n",
       "\n",
       "    .dataframe thead th {\n",
       "        text-align: right;\n",
       "    }\n",
       "</style>\n",
       "<table border=\"1\" class=\"dataframe\">\n",
       "  <thead>\n",
       "    <tr style=\"text-align: right;\">\n",
       "      <th>article_id</th>\n",
       "      <th>0.0</th>\n",
       "      <th>100.0</th>\n",
       "      <th>1000.0</th>\n",
       "      <th>1004.0</th>\n",
       "      <th>1006.0</th>\n",
       "      <th>1008.0</th>\n",
       "      <th>101.0</th>\n",
       "      <th>1014.0</th>\n",
       "      <th>1015.0</th>\n",
       "      <th>1016.0</th>\n",
       "      <th>...</th>\n",
       "      <th>977.0</th>\n",
       "      <th>98.0</th>\n",
       "      <th>981.0</th>\n",
       "      <th>984.0</th>\n",
       "      <th>985.0</th>\n",
       "      <th>986.0</th>\n",
       "      <th>990.0</th>\n",
       "      <th>993.0</th>\n",
       "      <th>996.0</th>\n",
       "      <th>997.0</th>\n",
       "    </tr>\n",
       "    <tr>\n",
       "      <th>user_id</th>\n",
       "      <th></th>\n",
       "      <th></th>\n",
       "      <th></th>\n",
       "      <th></th>\n",
       "      <th></th>\n",
       "      <th></th>\n",
       "      <th></th>\n",
       "      <th></th>\n",
       "      <th></th>\n",
       "      <th></th>\n",
       "      <th></th>\n",
       "      <th></th>\n",
       "      <th></th>\n",
       "      <th></th>\n",
       "      <th></th>\n",
       "      <th></th>\n",
       "      <th></th>\n",
       "      <th></th>\n",
       "      <th></th>\n",
       "      <th></th>\n",
       "      <th></th>\n",
       "    </tr>\n",
       "  </thead>\n",
       "  <tbody>\n",
       "    <tr>\n",
       "      <th>1</th>\n",
       "      <td>0.0</td>\n",
       "      <td>0.0</td>\n",
       "      <td>0.0</td>\n",
       "      <td>0.0</td>\n",
       "      <td>0.0</td>\n",
       "      <td>0.0</td>\n",
       "      <td>0.0</td>\n",
       "      <td>0.0</td>\n",
       "      <td>0.0</td>\n",
       "      <td>0.0</td>\n",
       "      <td>...</td>\n",
       "      <td>0.0</td>\n",
       "      <td>0.0</td>\n",
       "      <td>1.0</td>\n",
       "      <td>0.0</td>\n",
       "      <td>0.0</td>\n",
       "      <td>0.0</td>\n",
       "      <td>0.0</td>\n",
       "      <td>0.0</td>\n",
       "      <td>0.0</td>\n",
       "      <td>0.0</td>\n",
       "    </tr>\n",
       "    <tr>\n",
       "      <th>2</th>\n",
       "      <td>0.0</td>\n",
       "      <td>0.0</td>\n",
       "      <td>0.0</td>\n",
       "      <td>0.0</td>\n",
       "      <td>0.0</td>\n",
       "      <td>0.0</td>\n",
       "      <td>0.0</td>\n",
       "      <td>0.0</td>\n",
       "      <td>0.0</td>\n",
       "      <td>0.0</td>\n",
       "      <td>...</td>\n",
       "      <td>0.0</td>\n",
       "      <td>0.0</td>\n",
       "      <td>0.0</td>\n",
       "      <td>0.0</td>\n",
       "      <td>0.0</td>\n",
       "      <td>0.0</td>\n",
       "      <td>0.0</td>\n",
       "      <td>0.0</td>\n",
       "      <td>0.0</td>\n",
       "      <td>0.0</td>\n",
       "    </tr>\n",
       "    <tr>\n",
       "      <th>3</th>\n",
       "      <td>0.0</td>\n",
       "      <td>0.0</td>\n",
       "      <td>0.0</td>\n",
       "      <td>0.0</td>\n",
       "      <td>0.0</td>\n",
       "      <td>0.0</td>\n",
       "      <td>0.0</td>\n",
       "      <td>0.0</td>\n",
       "      <td>0.0</td>\n",
       "      <td>0.0</td>\n",
       "      <td>...</td>\n",
       "      <td>1.0</td>\n",
       "      <td>0.0</td>\n",
       "      <td>0.0</td>\n",
       "      <td>0.0</td>\n",
       "      <td>0.0</td>\n",
       "      <td>0.0</td>\n",
       "      <td>0.0</td>\n",
       "      <td>0.0</td>\n",
       "      <td>0.0</td>\n",
       "      <td>0.0</td>\n",
       "    </tr>\n",
       "    <tr>\n",
       "      <th>4</th>\n",
       "      <td>0.0</td>\n",
       "      <td>0.0</td>\n",
       "      <td>0.0</td>\n",
       "      <td>0.0</td>\n",
       "      <td>0.0</td>\n",
       "      <td>0.0</td>\n",
       "      <td>0.0</td>\n",
       "      <td>0.0</td>\n",
       "      <td>0.0</td>\n",
       "      <td>0.0</td>\n",
       "      <td>...</td>\n",
       "      <td>0.0</td>\n",
       "      <td>0.0</td>\n",
       "      <td>0.0</td>\n",
       "      <td>0.0</td>\n",
       "      <td>0.0</td>\n",
       "      <td>0.0</td>\n",
       "      <td>0.0</td>\n",
       "      <td>0.0</td>\n",
       "      <td>0.0</td>\n",
       "      <td>0.0</td>\n",
       "    </tr>\n",
       "    <tr>\n",
       "      <th>5</th>\n",
       "      <td>0.0</td>\n",
       "      <td>0.0</td>\n",
       "      <td>0.0</td>\n",
       "      <td>0.0</td>\n",
       "      <td>0.0</td>\n",
       "      <td>0.0</td>\n",
       "      <td>0.0</td>\n",
       "      <td>0.0</td>\n",
       "      <td>0.0</td>\n",
       "      <td>0.0</td>\n",
       "      <td>...</td>\n",
       "      <td>0.0</td>\n",
       "      <td>0.0</td>\n",
       "      <td>0.0</td>\n",
       "      <td>0.0</td>\n",
       "      <td>0.0</td>\n",
       "      <td>0.0</td>\n",
       "      <td>0.0</td>\n",
       "      <td>0.0</td>\n",
       "      <td>0.0</td>\n",
       "      <td>0.0</td>\n",
       "    </tr>\n",
       "  </tbody>\n",
       "</table>\n",
       "<p>5 rows × 714 columns</p>\n",
       "</div>"
      ],
      "text/plain": [
       "article_id  0.0  100.0  1000.0  1004.0  1006.0  1008.0  101.0  1014.0  1015.0   \n",
       "user_id                                                                         \n",
       "1           0.0    0.0     0.0     0.0     0.0     0.0    0.0     0.0     0.0  \\\n",
       "2           0.0    0.0     0.0     0.0     0.0     0.0    0.0     0.0     0.0   \n",
       "3           0.0    0.0     0.0     0.0     0.0     0.0    0.0     0.0     0.0   \n",
       "4           0.0    0.0     0.0     0.0     0.0     0.0    0.0     0.0     0.0   \n",
       "5           0.0    0.0     0.0     0.0     0.0     0.0    0.0     0.0     0.0   \n",
       "\n",
       "article_id  1016.0  ...  977.0  98.0  981.0  984.0  985.0  986.0  990.0   \n",
       "user_id             ...                                                   \n",
       "1              0.0  ...    0.0   0.0    1.0    0.0    0.0    0.0    0.0  \\\n",
       "2              0.0  ...    0.0   0.0    0.0    0.0    0.0    0.0    0.0   \n",
       "3              0.0  ...    1.0   0.0    0.0    0.0    0.0    0.0    0.0   \n",
       "4              0.0  ...    0.0   0.0    0.0    0.0    0.0    0.0    0.0   \n",
       "5              0.0  ...    0.0   0.0    0.0    0.0    0.0    0.0    0.0   \n",
       "\n",
       "article_id  993.0  996.0  997.0  \n",
       "user_id                          \n",
       "1             0.0    0.0    0.0  \n",
       "2             0.0    0.0    0.0  \n",
       "3             0.0    0.0    0.0  \n",
       "4             0.0    0.0    0.0  \n",
       "5             0.0    0.0    0.0  \n",
       "\n",
       "[5 rows x 714 columns]"
      ]
     },
     "execution_count": 73,
     "metadata": {},
     "output_type": "execute_result"
    }
   ],
   "source": [
    "# quick look at the matrix\n",
    "user_item_matrix.head()"
   ]
  },
  {
   "cell_type": "markdown",
   "metadata": {},
   "source": [
    "`2.` In this situation, you can use Singular Value Decomposition from [numpy](https://docs.scipy.org/doc/numpy-1.14.0/reference/generated/numpy.linalg.svd.html) on the user-item matrix.  Use the cell to perform SVD, and explain why this is different than in the lesson."
   ]
  },
  {
   "cell_type": "code",
   "execution_count": 74,
   "metadata": {
    "tags": []
   },
   "outputs": [],
   "source": [
    "# Perform SVD on the User-Item Matrix Here\n",
    "u, s, vt = np.linalg.svd(user_item_matrix)"
   ]
  },
  {
   "cell_type": "code",
   "execution_count": 75,
   "metadata": {
    "tags": []
   },
   "outputs": [
    {
     "data": {
      "text/plain": [
       "((714,), (5149, 5149), (714, 714))"
      ]
     },
     "execution_count": 75,
     "metadata": {},
     "output_type": "execute_result"
    }
   ],
   "source": [
    "s.shape, u.shape, vt.shape"
   ]
  },
  {
   "cell_type": "markdown",
   "metadata": {},
   "source": [
    "**Answer:** SVD can be used only with full matrices, i.e., matrices without any `NaN` values. In such cases, there exists a closed-form solution and we don't need to apply gradient descend or similar optimization algorithms. In the present case, we don't have user ratings, but rather flags indicating wether the user has interacted with an article; thus, we can set the value `0` for all cells associated to a user-article interaction which has not occurred. In case we had, e.g., ratings, we would have had `NaN` values; in those situations, we need to use the FunkSVD or a similar method which works only with non-`NaN` interactions."
   ]
  },
  {
   "cell_type": "markdown",
   "metadata": {},
   "source": [
    "`3.` Now for the tricky part, how do we choose the number of latent features to use?  Running the below cell, you can see that as the number of latent features increases, we obtain a lower error rate on making predictions for the 1 and 0 values in the user-item matrix.  Run the cell below to get an idea of how the accuracy improves as we increase the number of latent features."
   ]
  },
  {
   "cell_type": "code",
   "execution_count": 76,
   "metadata": {
    "tags": []
   },
   "outputs": [
    {
     "data": {
      "image/png": "[encoded data removed]",
      "text/plain": [
       "<Figure size 640x480 with 1 Axes>"
      ]
     },
     "metadata": {},
     "output_type": "display_data"
    }
   ],
   "source": [
    "num_latent_feats = np.arange(10,700+10,20)\n",
    "sum_errs = []\n",
    "\n",
    "for k in num_latent_feats:\n",
    "    # restructure with k latent features\n",
    "    s_new, u_new, vt_new = np.diag(s[:k]), u[:, :k], vt[:k, :]\n",
    "    \n",
    "    # take dot product\n",
    "    user_item_est = np.around(np.dot(np.dot(u_new, s_new), vt_new))\n",
    "    \n",
    "    # compute error for each prediction to actual value\n",
    "    diffs = np.subtract(user_item_matrix, user_item_est)\n",
    "    \n",
    "    # total errors and keep track of them\n",
    "    err = np.sum(np.sum(np.abs(diffs)))\n",
    "    sum_errs.append(err)\n",
    "    \n",
    "plt.plot(num_latent_feats, 1 - np.array(sum_errs)/df.shape[0]);\n",
    "plt.xlabel('Number of Latent Features');\n",
    "plt.ylabel('Accuracy');\n",
    "plt.title('Accuracy vs. Number of Latent Features');"
   ]
  },
  {
   "cell_type": "markdown",
   "metadata": {},
   "source": [
    "`4.` From the above, we can't really be sure how many features to use, because simply having a better way to predict the 1's and 0's of the matrix doesn't exactly give us an indication of if we are able to make good recommendations.  Instead, we might split our dataset into a training and test set of data, as shown in the cell below.  \n",
    "\n",
    "Use the code from question 3 to understand the impact on accuracy of the training and test sets of data with different numbers of latent features. Using the split below: \n",
    "\n",
    "* How many users can we make predictions for in the test set?  \n",
    "* How many users are we not able to make predictions for because of the cold start problem?\n",
    "* How many articles can we make predictions for in the test set?  \n",
    "* How many articles are we not able to make predictions for because of the cold start problem?"
   ]
  },
  {
   "cell_type": "code",
   "execution_count": 77,
   "metadata": {
    "tags": []
   },
   "outputs": [
    {
     "data": {
      "text/plain": [
       "(45993, 3)"
      ]
     },
     "execution_count": 77,
     "metadata": {},
     "output_type": "execute_result"
    }
   ],
   "source": [
    "df.shape"
   ]
  },
  {
   "cell_type": "code",
   "execution_count": 78,
   "metadata": {
    "tags": []
   },
   "outputs": [
    {
     "data": {
      "text/html": [
       "<div>\n",
       "<style scoped>\n",
       "    .dataframe tbody tr th:only-of-type {\n",
       "        vertical-align: middle;\n",
       "    }\n",
       "\n",
       "    .dataframe tbody tr th {\n",
       "        vertical-align: top;\n",
       "    }\n",
       "\n",
       "    .dataframe thead th {\n",
       "        text-align: right;\n",
       "    }\n",
       "</style>\n",
       "<table border=\"1\" class=\"dataframe\">\n",
       "  <thead>\n",
       "    <tr style=\"text-align: right;\">\n",
       "      <th></th>\n",
       "      <th>article_id</th>\n",
       "      <th>title</th>\n",
       "      <th>user_id</th>\n",
       "    </tr>\n",
       "  </thead>\n",
       "  <tbody>\n",
       "    <tr>\n",
       "      <th>0</th>\n",
       "      <td>1430.0</td>\n",
       "      <td>using pixiedust for fast, flexible, and easier...</td>\n",
       "      <td>1</td>\n",
       "    </tr>\n",
       "    <tr>\n",
       "      <th>1</th>\n",
       "      <td>1314.0</td>\n",
       "      <td>healthcare python streaming application demo</td>\n",
       "      <td>2</td>\n",
       "    </tr>\n",
       "    <tr>\n",
       "      <th>2</th>\n",
       "      <td>1429.0</td>\n",
       "      <td>use deep learning for image classification</td>\n",
       "      <td>3</td>\n",
       "    </tr>\n",
       "    <tr>\n",
       "      <th>3</th>\n",
       "      <td>1338.0</td>\n",
       "      <td>ml optimization using cognitive assistant</td>\n",
       "      <td>4</td>\n",
       "    </tr>\n",
       "    <tr>\n",
       "      <th>4</th>\n",
       "      <td>1276.0</td>\n",
       "      <td>deploy your python model as a restful api</td>\n",
       "      <td>5</td>\n",
       "    </tr>\n",
       "  </tbody>\n",
       "</table>\n",
       "</div>"
      ],
      "text/plain": [
       "   article_id                                              title  user_id\n",
       "0      1430.0  using pixiedust for fast, flexible, and easier...        1\n",
       "1      1314.0       healthcare python streaming application demo        2\n",
       "2      1429.0         use deep learning for image classification        3\n",
       "3      1338.0          ml optimization using cognitive assistant        4\n",
       "4      1276.0          deploy your python model as a restful api        5"
      ]
     },
     "execution_count": 78,
     "metadata": {},
     "output_type": "execute_result"
    }
   ],
   "source": [
    "df.head()"
   ]
  },
  {
   "cell_type": "code",
   "execution_count": 79,
   "metadata": {
    "tags": []
   },
   "outputs": [],
   "source": [
    "df_train = df.head(40000)\n",
    "df_test = df.tail(5993)\n",
    "\n",
    "def create_test_and_train_user_item(df_train, df_test):\n",
    "    '''\n",
    "    INPUT:\n",
    "    df_train - training dataframe\n",
    "    df_test - test dataframe\n",
    "    \n",
    "    OUTPUT:\n",
    "    user_item_train - a user-item matrix of the training dataframe \n",
    "                      (unique users for each row and unique articles for each column)\n",
    "    user_item_test - a user-item matrix of the testing dataframe \n",
    "                    (unique users for each row and unique articles for each column)\n",
    "    test_idx - all of the test user ids\n",
    "    test_arts - all of the test article ids\n",
    "    \n",
    "    '''\n",
    "    user_item_train = create_user_item_matrix(df_train)\n",
    "    user_item_test = create_user_item_matrix(df_test)\n",
    "    \n",
    "    test_idx = df_test.user_id.unique()\n",
    "    test_arts = df_train.article_id.unique()\n",
    "    \n",
    "    return user_item_train, user_item_test, test_idx, test_arts\n",
    "\n",
    "user_item_train, user_item_test, test_idx, test_arts = create_test_and_train_user_item(df_train, df_test)"
   ]
  },
  {
   "cell_type": "code",
   "execution_count": 80,
   "metadata": {
    "tags": []
   },
   "outputs": [
    {
     "name": "stdout",
     "output_type": "stream",
     "text": [
      "20\n"
     ]
    }
   ],
   "source": [
    "# How many users can we make predictions for in the test set?\n",
    "old_users = set(test_idx).intersection(set(df_train.user_id.unique()))\n",
    "print(len(old_users))"
   ]
  },
  {
   "cell_type": "code",
   "execution_count": 81,
   "metadata": {
    "tags": []
   },
   "outputs": [
    {
     "name": "stdout",
     "output_type": "stream",
     "text": [
      "662\n"
     ]
    }
   ],
   "source": [
    "# How many users are we not able to make predictions for because of the cold start problem?\n",
    "new_users = set(test_idx).difference(old_users)\n",
    "print(len(new_users))"
   ]
  },
  {
   "cell_type": "code",
   "execution_count": 82,
   "metadata": {
    "tags": []
   },
   "outputs": [
    {
     "name": "stdout",
     "output_type": "stream",
     "text": [
      "574\n"
     ]
    }
   ],
   "source": [
    "# How many articles can we make predictions for in the test set?\n",
    "old_articles = set(df_test.article_id.unique()).intersection(set(df_train.article_id.unique()))\n",
    "print(len(old_articles))"
   ]
  },
  {
   "cell_type": "code",
   "execution_count": 83,
   "metadata": {
    "tags": []
   },
   "outputs": [
    {
     "name": "stdout",
     "output_type": "stream",
     "text": [
      "0\n"
     ]
    }
   ],
   "source": [
    "# How many articles are we not able to make predictions for because of the cold start problem?\n",
    "new_articles = set(df_test.article_id.unique()).difference(old_articles)\n",
    "print(len(new_articles))"
   ]
  },
  {
   "cell_type": "code",
   "execution_count": 84,
   "metadata": {
    "tags": []
   },
   "outputs": [
    {
     "name": "stdout",
     "output_type": "stream",
     "text": [
      "Awesome job!  That's right!  All of the test movies are in the training data, but there are only 20 test users that were also in the training set.  All of the other users that are in the test set we have no data on.  Therefore, we cannot make predictions for these users using SVD.\n"
     ]
    }
   ],
   "source": [
    "# Replace the values in the dictionary below\n",
    "a = 662 \n",
    "b = 574 \n",
    "c = 20 \n",
    "d = 0 \n",
    "\n",
    "sol_4_dict = {\n",
    "    'How many users can we make predictions for in the test set?': c, \n",
    "    'How many users in the test set are we not able to make predictions for because of the cold start problem?': a, \n",
    "    'How many movies can we make predictions for in the test set?': b,\n",
    "    'How many movies in the test set are we not able to make predictions for because of the cold start problem?': d\n",
    "}\n",
    "\n",
    "t.sol_4_test(sol_4_dict)"
   ]
  },
  {
   "cell_type": "markdown",
   "metadata": {},
   "source": [
    "`5.` Now use the **user_item_train** dataset from above to find U, S, and V transpose using SVD. Then find the subset of rows in the **user_item_test** dataset that you can predict using this matrix decomposition with different numbers of latent features to see how many features makes sense to keep based on the accuracy on the test data. This will require combining what was done in questions `2` - `4`.\n",
    "\n",
    "Use the cells below to explore how well SVD works towards making predictions for recommendations on the test data.  "
   ]
  },
  {
   "cell_type": "code",
   "execution_count": 85,
   "metadata": {
    "tags": []
   },
   "outputs": [],
   "source": [
    "# fit SVD on the user_item_train matrix\n",
    "u_train, s_train, vt_train = np.linalg.svd(user_item_train)"
   ]
  },
  {
   "cell_type": "code",
   "execution_count": 86,
   "metadata": {
    "tags": []
   },
   "outputs": [
    {
     "data": {
      "text/plain": [
       "((714,), (4487, 4487), (714, 714))"
      ]
     },
     "execution_count": 86,
     "metadata": {},
     "output_type": "execute_result"
    }
   ],
   "source": [
    "s_train.shape, u_train.shape, vt_train.shape"
   ]
  },
  {
   "cell_type": "code",
   "execution_count": 87,
   "metadata": {
    "tags": []
   },
   "outputs": [],
   "source": [
    "# Use these cells to see how well you can use the training \n",
    "# decomposition to predict on test data"
   ]
  },
  {
   "cell_type": "code",
   "execution_count": 88,
   "metadata": {
    "tags": []
   },
   "outputs": [],
   "source": [
    "# Pick the users & articles from that are present in the test split\n",
    "users_idxs = user_item_train.index.isin(test_idx)\n",
    "articles_idxs = user_item_train.columns.isin(test_arts)\n",
    "u_test = u_train[users_idxs, :]\n",
    "vt_test = vt_train[:, articles_idxs]\n",
    "#user_item_test_ = user_item_test.loc[list(old_users), list(old_articles)]\n",
    "user_item_test_ = user_item_train.loc[list(old_users), :]"
   ]
  },
  {
   "cell_type": "code",
   "execution_count": 89,
   "metadata": {
    "tags": []
   },
   "outputs": [
    {
     "data": {
      "text/plain": [
       "((20, 4487), (714, 714), (20, 714))"
      ]
     },
     "execution_count": 89,
     "metadata": {},
     "output_type": "execute_result"
    }
   ],
   "source": [
    "u_test.shape, vt_test.shape, user_item_test_.shape"
   ]
  },
  {
   "cell_type": "code",
   "execution_count": 90,
   "metadata": {
    "tags": []
   },
   "outputs": [
    {
     "data": {
      "image/png": "[encoded data removed]",
      "text/plain": [
       "<Figure size 640x480 with 1 Axes>"
      ]
     },
     "metadata": {},
     "output_type": "display_data"
    }
   ],
   "source": [
    "num_latent_feats = np.arange(10,700+10,20)\n",
    "sum_errs_train = []\n",
    "sum_errs_test = []\n",
    "\n",
    "for k in num_latent_feats:\n",
    "    # restructure with k latent features\n",
    "    s_train_new, u_train_new, vt_train_new = np.diag(s_train[:k]), u_train[:, :k], vt_train[:k, :]\n",
    "    s_test_new, u_test_new, vt_test_new = s_train_new, u_test[:, :k], vt_test[:k, :]\n",
    "    \n",
    "    # take dot product\n",
    "    user_item_train_est = np.around(np.dot(np.dot(u_train_new, s_train_new), vt_train_new))\n",
    "    user_item_test_est = np.around(np.dot(np.dot(u_test_new, s_test_new), vt_test_new))\n",
    "    \n",
    "    # compute error for each prediction to actual value\n",
    "    diffs_train = np.subtract(user_item_train, user_item_train_est)\n",
    "    diffs_test = np.subtract(user_item_test_, user_item_test_est)\n",
    "    \n",
    "    # total errors and keep track of them\n",
    "    err_train = np.sum(np.sum(np.abs(diffs_train)))\n",
    "    err_test= np.sum(np.sum(np.abs(diffs_test)))\n",
    "    sum_errs_train.append(err_train)\n",
    "    sum_errs_test.append(err_test)\n",
    "\n",
    "train_size = user_item_train.shape[0]*user_item_train.shape[1]\n",
    "test_size = user_item_test_.shape[0]*user_item_test_.shape[1]\n",
    "plt.plot(num_latent_feats, 1 - np.array(sum_errs_train)/train_size, label='train');\n",
    "plt.plot(num_latent_feats, 1 - np.array(sum_errs_test)/test_size, label='test');\n",
    "plt.xlabel('Number of Latent Features');\n",
    "plt.ylabel('Accuracy');\n",
    "plt.title('Accuracy vs. Number of Latent Features');"
   ]
  },
  {
   "cell_type": "markdown",
   "metadata": {},
   "source": [
    "`6.` Use the cell below to comment on the results you found in the previous question. Given the circumstances of your results, discuss what you might do to determine if the recommendations you make with any of the above recommendation systems are an improvement to how users currently find articles? "
   ]
  },
  {
   "cell_type": "markdown",
   "metadata": {},
   "source": [
    "- The test split is reduced to contain users that appear in the train split in order to be able to evaluate the SVD factorization on the train subset; that leaves only 20 possible users or rows for the user-item matrix for testing vs. the 4487 comprised by the train split.\n",
    "- Whereas the accuracy of the train split increases with the number of chosen latent features (as expected), the accuracy of the small test subset decreases slightly to an asymptote around 0.965.\n",
    "- Maybe only 20 test users is too few to evaluate the system?\n",
    "- In general, I would start with this approach:\n",
    "    - In case we have new users/items (cold-start problem):\n",
    "        - Use a ranking-based system to suggest recommendations to new users.\n",
    "        - Use the content-based system (NLP) for new articles.\n",
    "    - For the other cases, perform regular A/B tests to check which performs better:\n",
    "        - Collaborative-filtering with matrix factorization (i.e., SVD).\n",
    "        - Collaborative filtering with neighbor users' choices (i.e., similarities)."
   ]
  },
  {
   "cell_type": "markdown",
   "metadata": {},
   "source": [
    "<a id='conclusions'></a>\n",
    "### Extras\n",
    "Using your workbook, you could now save your recommendations for each user, develop a class to make new predictions and update your results, and make a flask app to deploy your results.  These tasks are beyond what is required for this project.  However, from what you learned in the lessons, you certainly capable of taking these tasks on to improve upon your work here!\n",
    "\n",
    "\n",
    "## Conclusion\n",
    "\n",
    "> Congratulations!  You have reached the end of the Recommendations with IBM project! \n",
    "\n",
    "> **Tip**: Once you are satisfied with your work here, check over your report to make sure that it is satisfies all the areas of the [rubric](https://review.udacity.com/#!/rubrics/2322/view). You should also probably remove all of the \"Tips\" like this one so that the presentation is as polished as possible.\n",
    "\n",
    "\n",
    "## Directions to Submit\n",
    "\n",
    "> Before you submit your project, you need to create a .html or .pdf version of this notebook in the workspace here. To do that, run the code cell below. If it worked correctly, you should get a return code of 0, and you should see the generated .html file in the workspace directory (click on the orange Jupyter icon in the upper left).\n",
    "\n",
    "> Alternatively, you can download this report as .html via the **File** > **Download as** submenu, and then manually upload it into the workspace directory by clicking on the orange Jupyter icon in the upper left, then using the Upload button.\n",
    "\n",
    "> Once you've done this, you can submit your project by clicking on the \"Submit Project\" button in the lower right here. This will create and submit a zip file with this .ipynb doc and the .html or .pdf version you created. Congratulations! "
   ]
  },
  {
   "cell_type": "code",
   "execution_count": null,
   "metadata": {
    "tags": []
   },
   "outputs": [],
   "source": [
    "from subprocess import call\n",
    "call(['python', '-m', 'nbconvert', 'Recommendations_with_IBM.ipynb', '--to', 'pdf'])"
   ]
  },
  {
   "cell_type": "code",
   "execution_count": null,
   "metadata": {},
   "outputs": [],
   "source": []
  }
 ],
 "metadata": {
  "kernelspec": {
   "display_name": "Python 3 (ipykernel)",
   "language": "python",
   "name": "python3"
  },
  "language_info": {
   "codemirror_mode": {
    "name": "ipython",
    "version": 3
   },
   "file_extension": ".py",
   "mimetype": "text/x-python",
   "name": "python",
   "nbconvert_exporter": "python",
   "pygments_lexer": "ipython3",
   "version": "3.9.16"
  }
 },
 "nbformat": 4,
 "nbformat_minor": 4
}
